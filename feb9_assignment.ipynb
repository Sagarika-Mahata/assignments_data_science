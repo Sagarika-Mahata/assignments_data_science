{
 "cells": [
  {
   "cell_type": "markdown",
   "id": "85918677-eeee-4a0b-9f83-e5e79c366d9a",
   "metadata": {},
   "source": [
    "## Q1, Create a vehicle class with an init method having instance variables as name_of_vehicle, max_speed and average_of_vehicle."
   ]
  },
  {
   "cell_type": "code",
   "execution_count": 1,
   "id": "94db6d63-3d4d-42b6-8008-5e4181fd8be2",
   "metadata": {},
   "outputs": [],
   "source": [
    "class vehicles:\n",
    "    def __init__(self, name_of_vehicle, max_speed, average_of_vehicle):\n",
    "        self.name_of_vehicle = name_of_vehicle\n",
    "        self.max_speed = max_speed\n",
    "        self.average_of_vehicle = average_of_vehicle\n",
    "        \n",
    "    def get_details(self):\n",
    "        return self.name_of_vehicle, self.max_speed, self.average_of_vehicle\n",
    "        \n",
    "obj1 = vehicles('Innova', 179, 'xx' )"
   ]
  },
  {
   "cell_type": "code",
   "execution_count": 2,
   "id": "3019d3e3-14d2-49ca-bda6-608264afd807",
   "metadata": {},
   "outputs": [
    {
     "data": {
      "text/plain": [
       "'Innova'"
      ]
     },
     "execution_count": 2,
     "metadata": {},
     "output_type": "execute_result"
    }
   ],
   "source": [
    "obj1.name_of_vehicle"
   ]
  },
  {
   "cell_type": "markdown",
   "id": "b9ac8b0f-d859-49a2-9cef-2927398252a1",
   "metadata": {},
   "source": [
    "## Q2. Create a child class car from the vehicle class created in Que 1, which will inherit the vehicle class. Create a method named seating_capacity which takes capacity as an argument and returns the name of the vehicle and its seating capacity."
   ]
  },
  {
   "cell_type": "code",
   "execution_count": 4,
   "id": "aa65ba4b-2652-4b00-9b66-41336bd58baa",
   "metadata": {},
   "outputs": [],
   "source": [
    "class vehicles:\n",
    "    def __init__(self, name_of_vehicle, max_speed, average_of_vehicle):\n",
    "        self.name_of_vehicle = name_of_vehicle\n",
    "        self.max_speed = max_speed\n",
    "        self.average_of_vehicle = average_of_vehicle\n",
    "        \n",
    "    def get_details(self):\n",
    "        return self.name_of_vehicle, self.max_speed, self.average_of_vehicle\n",
    "    \n",
    "# Child class\n",
    "\n",
    "class car(vehicles):\n",
    "    def __init__(self, name_of_vehicle, max_speed, average_of_vehicle):\n",
    "        vehicles.__init__(self,name_of_vehicle, max_speed, average_of_vehicle)\n",
    "        \n",
    "        \n",
    "    def seating_capacity(self, capacity):\n",
    "        self.seatingCapacity= capacity\n",
    "        return self.name_of_vehicle, self.seatingCapacity"
   ]
  },
  {
   "cell_type": "code",
   "execution_count": 7,
   "id": "6e012120-095f-4622-8212-ccded705ace6",
   "metadata": {},
   "outputs": [],
   "source": [
    "obj2=car('waganor', 130, 20)"
   ]
  },
  {
   "cell_type": "code",
   "execution_count": 8,
   "id": "bfde895e-4ece-4856-80fe-c358ea6a42a1",
   "metadata": {},
   "outputs": [
    {
     "name": "stdout",
     "output_type": "stream",
     "text": [
      "('waganor', 4)\n"
     ]
    }
   ],
   "source": [
    "print(obj2.seating_capacity(4))\n",
    "# print(obj2.__dict__)"
   ]
  },
  {
   "cell_type": "markdown",
   "id": "3f1593a2-2e93-4f18-b826-32a996aa1b96",
   "metadata": {},
   "source": [
    "## Q3. What is multiple inheritance? Write a python code to demonstrate multiple inheritance."
   ]
  },
  {
   "cell_type": "markdown",
   "id": "733d2b88-5e50-4543-97d5-993de36021b9",
   "metadata": {},
   "source": [
    "### When a child class inherits from more than one parent class. This type of inheritance is known as Multiple Inheritance."
   ]
  },
  {
   "cell_type": "code",
   "execution_count": 16,
   "id": "0c454dff-0d0f-454d-93e0-6c24e85993d2",
   "metadata": {},
   "outputs": [],
   "source": [
    "#Example of Multiple Inheritance\n",
    "\n",
    "class parent1:\n",
    "    def f1(self):\n",
    "        print(\"This is from parent1 class.\")\n",
    "        \n",
    "class parent2:\n",
    "    def f2(self):\n",
    "        print(\"This is from parent2 class.\")\n",
    "        \n",
    "class child(parent1, parent2):\n",
    "    def f3(self):\n",
    "        print(\"This is from child class.\")\n",
    "        "
   ]
  },
  {
   "cell_type": "code",
   "execution_count": 17,
   "id": "78a23230-7920-4047-b429-5f5aa68efd5c",
   "metadata": {},
   "outputs": [
    {
     "name": "stdout",
     "output_type": "stream",
     "text": [
      "This is from parent1 class.\n",
      "This is from parent2 class.\n",
      "This is from child class.\n"
     ]
    }
   ],
   "source": [
    "ob1=child()\n",
    "ob1.f1()\n",
    "ob1.f2()\n",
    "ob1.f3() "
   ]
  },
  {
   "cell_type": "markdown",
   "id": "844a16a9-68fb-4f4e-8135-5d488cd6b8f6",
   "metadata": {},
   "source": [
    "## Q4. What are getter and setter in python? Create a class and create a getter and a setter method in this class."
   ]
  },
  {
   "cell_type": "code",
   "execution_count": null,
   "id": "d3073517-b450-4f5e-a489-8c5c37fea7f1",
   "metadata": {},
   "outputs": [],
   "source": [
    "class test:\n",
    "    def "
   ]
  },
  {
   "cell_type": "code",
   "execution_count": 7,
   "id": "753de437-97c5-4e22-83f0-25fad6e41095",
   "metadata": {},
   "outputs": [
    {
     "name": "stdout",
     "output_type": "stream",
     "text": [
      "setter method called\n",
      "getter method called\n",
      "20\n"
     ]
    }
   ],
   "source": [
    "class Geeks:\n",
    "     def __init__(self):\n",
    "          self._age = 0\n",
    "       \n",
    "     # using property decorator\n",
    "     # a getter function\n",
    "     @property\n",
    "     def age(self):\n",
    "         print(\"getter method called\")\n",
    "         return self._age\n",
    "       \n",
    "     # a setter function\n",
    "     @age.setter\n",
    "     def age(self, a):\n",
    "         if(a < 18):\n",
    "            raise ValueError(\"Sorry your age is below eligibility criteria\")\n",
    "         print(\"setter method called\")\n",
    "         self._age = a\n",
    "  \n",
    "mark = Geeks()\n",
    "  \n",
    "mark.age = 20\n",
    "  \n",
    "print(mark.age)"
   ]
  },
  {
   "cell_type": "code",
   "execution_count": null,
   "id": "56659507-7b87-470c-9cf0-72d5c09da77a",
   "metadata": {},
   "outputs": [],
   "source": []
  },
  {
   "cell_type": "markdown",
   "id": "aaad454d-7917-4f28-b1e0-381049c5d46b",
   "metadata": {},
   "source": [
    "## Q5.What is method overriding in python? Write a python code to demonstrate method overriding."
   ]
  },
  {
   "cell_type": "markdown",
   "id": "80dfa8a8-8a9e-4d27-93cc-8303fb81862d",
   "metadata": {},
   "source": [
    "When a method in child class has a same name, same parameter and same return as in the parent class. Then the method in child class is overriding the method in parent class."
   ]
  },
  {
   "cell_type": "code",
   "execution_count": 9,
   "id": "40f0d04a-ace4-4672-80b0-8c75dbfd09ee",
   "metadata": {},
   "outputs": [
    {
     "name": "stdout",
     "output_type": "stream",
     "text": [
      "This is from parent class.\n",
      "This is from child class.\n"
     ]
    }
   ],
   "source": [
    "#Example of method override\n",
    "\n",
    "# Parent class\n",
    "\n",
    "class parent:\n",
    "    def f(self):\n",
    "        print(\"This is from parent class.\")\n",
    "        \n",
    "# Child class        \n",
    "class child(parent):\n",
    "    def f(self):\n",
    "        print(\"This is from child class.\")\n",
    "        \n",
    "obj1= parent()\n",
    "obj2= child()\n",
    "\n",
    "obj1.f()\n",
    "obj2.f()\n",
    "        "
   ]
  },
  {
   "cell_type": "code",
   "execution_count": null,
   "id": "61252d42-86f9-407d-ae84-427d940822f7",
   "metadata": {},
   "outputs": [],
   "source": []
  }
 ],
 "metadata": {
  "kernelspec": {
   "display_name": "Python 3 (ipykernel)",
   "language": "python",
   "name": "python3"
  },
  "language_info": {
   "codemirror_mode": {
    "name": "ipython",
    "version": 3
   },
   "file_extension": ".py",
   "mimetype": "text/x-python",
   "name": "python",
   "nbconvert_exporter": "python",
   "pygments_lexer": "ipython3",
   "version": "3.10.8"
  }
 },
 "nbformat": 4,
 "nbformat_minor": 5
}
