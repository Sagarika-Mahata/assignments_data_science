{
 "cells": [
  {
   "cell_type": "markdown",
   "id": "612d9561-0fd3-4af7-96a0-a7209f5b9910",
   "metadata": {},
   "source": [
    "# Tuple Assignment"
   ]
  },
  {
   "cell_type": "markdown",
   "id": "58d6a5fc-990a-493b-9637-a732975dc1c3",
   "metadata": {},
   "source": [
    "''' 1. Tuple is a collection of objects like a list. here we use () operators.\n",
    "Yes, tuple is immutable, unlike list.\n",
    "'''"
   ]
  },
  {
   "cell_type": "markdown",
   "id": "ab9c6e50-4d4f-4b2a-936c-845a8d0b5fd8",
   "metadata": {},
   "source": [
    "### 2."
   ]
  },
  {
   "cell_type": "markdown",
   "id": "246057d9-e89a-43b1-8cef-f7b4bae88a86",
   "metadata": {},
   "source": [
    "''' Tuple have only two in-build methods:\n",
    "i) count - it tells how mamny times the object is repeating.\n",
    "ii) index - it gives the index of the object(which one appears first) in the tuple. '''"
   ]
  },
  {
   "cell_type": "code",
   "execution_count": 7,
   "id": "cf126d1e-3eef-4258-8f19-26b95f48bb7d",
   "metadata": {},
   "outputs": [
    {
     "data": {
      "text/plain": [
       "3"
      ]
     },
     "execution_count": 7,
     "metadata": {},
     "output_type": "execute_result"
    }
   ],
   "source": [
    "## Example of count\n",
    "t=(1,3,3,54,'happy',3,'sad')\n",
    "t.count(3)"
   ]
  },
  {
   "cell_type": "code",
   "execution_count": 2,
   "id": "828c00fe-3531-473d-bcbb-f1593066b162",
   "metadata": {},
   "outputs": [
    {
     "data": {
      "text/plain": [
       "1"
      ]
     },
     "execution_count": 2,
     "metadata": {},
     "output_type": "execute_result"
    }
   ],
   "source": [
    "## example of index\n",
    "t=(1,3,3,54,'happy',3, 'sad')\n",
    "t.index(3)"
   ]
  },
  {
   "cell_type": "code",
   "execution_count": 3,
   "id": "162218ad-d346-4291-ae7d-9a4ef952b2da",
   "metadata": {},
   "outputs": [
    {
     "data": {
      "text/plain": [
       "3"
      ]
     },
     "execution_count": 3,
     "metadata": {},
     "output_type": "execute_result"
    }
   ],
   "source": [
    "t[1]"
   ]
  },
  {
   "cell_type": "markdown",
   "id": "907c9c7a-c33b-4546-aa6f-f1ab16e9a17a",
   "metadata": {},
   "source": [
    "'''Since tuple is immutable, we can not make changes into it. that's why it doesn't have many methods.\n",
    "But, list is very versatile and mutable. So it has more functions. '''"
   ]
  },
  {
   "cell_type": "markdown",
   "id": "93a466ce-10ff-4e46-bbf3-678fe59cbfef",
   "metadata": {},
   "source": [
    "## 3."
   ]
  },
  {
   "cell_type": "markdown",
   "id": "ad1d078f-114b-445d-ada2-986c08bd15a4",
   "metadata": {},
   "source": [
    "'Set do not allow dublicacy.'"
   ]
  },
  {
   "cell_type": "code",
   "execution_count": 4,
   "id": "f68db3bd-2ce7-4d75-a5f8-0b950139be41",
   "metadata": {},
   "outputs": [
    {
     "data": {
      "text/plain": [
       "{1, 22, 32, 33, 33.23}"
      ]
     },
     "execution_count": 4,
     "metadata": {},
     "output_type": "execute_result"
    }
   ],
   "source": [
    "a={1,1,1,1,32,33,22,22,33.23}\n",
    "a"
   ]
  },
  {
   "cell_type": "code",
   "execution_count": 5,
   "id": "c32ad4b5-81cb-4040-8462-a4412e388bb8",
   "metadata": {},
   "outputs": [],
   "source": [
    "list=[1,1,1,2,1,3, 1, 4, 2, 1, 2, 2, 2, 3, 2, 4, 3, 1, 3, 2, 3, 3, 3, 4, 4, 1, 4, 2, 4, 3, 4, 4]"
   ]
  },
  {
   "cell_type": "code",
   "execution_count": 9,
   "id": "27a626e2-ea2f-4240-af04-9e16b2dcf6cf",
   "metadata": {},
   "outputs": [
    {
     "data": {
      "text/plain": [
       "{1, 2, 3, 4}"
      ]
     },
     "execution_count": 9,
     "metadata": {},
     "output_type": "execute_result"
    }
   ],
   "source": [
    "s1=set(list)\n",
    "s1"
   ]
  },
  {
   "cell_type": "markdown",
   "id": "f3754e5b-2dee-4e65-b79f-aee78ea12adb",
   "metadata": {},
   "source": [
    "## 4."
   ]
  },
  {
   "cell_type": "markdown",
   "id": "7f2802f5-a513-440f-b4fc-d5ba17328e77",
   "metadata": {},
   "source": [
    "''' update() method make changes in the original set and reassign the new values to the set, whereas, union() method doesn't make any changes in the set and returns a copy instead.'''"
   ]
  },
  {
   "cell_type": "code",
   "execution_count": 48,
   "id": "da14808b-2b21-41f2-952a-2e1132fe8745",
   "metadata": {},
   "outputs": [],
   "source": [
    "## Example of union() method\n",
    "s2={1,2,3,4,4,5,'cat'}\n",
    "s3={2,2,3,4,6,7,'dog','cat'}"
   ]
  },
  {
   "cell_type": "code",
   "execution_count": 49,
   "id": "50a7a02d-194f-45d5-98c1-4248170034bc",
   "metadata": {},
   "outputs": [
    {
     "data": {
      "text/plain": [
       "{1, 2, 3, 4, 5, 6, 7, 'cat', 'dog'}"
      ]
     },
     "execution_count": 49,
     "metadata": {},
     "output_type": "execute_result"
    }
   ],
   "source": [
    "s2.union(s3)  "
   ]
  },
  {
   "cell_type": "code",
   "execution_count": 50,
   "id": "ba0b4841-17b4-40f6-9685-5f5b04cbc1c4",
   "metadata": {},
   "outputs": [
    {
     "data": {
      "text/plain": [
       "{1, 2, 3, 4, 5, 'cat'}"
      ]
     },
     "execution_count": 50,
     "metadata": {},
     "output_type": "execute_result"
    }
   ],
   "source": [
    "s2 ## do not alter the orginal set "
   ]
  },
  {
   "cell_type": "code",
   "execution_count": 45,
   "id": "960c482b-ba33-447d-8d46-b07c955f3bcd",
   "metadata": {},
   "outputs": [],
   "source": [
    "## Example of update() method\n",
    "s2={1,2,'a',4,4,5,'cat'}\n",
    "s3={2,2,3,4,6,7,'dog','cat'}"
   ]
  },
  {
   "cell_type": "code",
   "execution_count": 46,
   "id": "d39162fd-a6d1-41aa-8f50-385cd6ece830",
   "metadata": {},
   "outputs": [],
   "source": [
    "s2.update(s3)"
   ]
  },
  {
   "cell_type": "code",
   "execution_count": 47,
   "id": "cd1733b1-7ccb-481f-8312-f64e4e63e3ed",
   "metadata": {},
   "outputs": [
    {
     "data": {
      "text/plain": [
       "{1, 2, 3, 4, 5, 6, 7, 'a', 'cat', 'dog'}"
      ]
     },
     "execution_count": 47,
     "metadata": {},
     "output_type": "execute_result"
    }
   ],
   "source": [
    "s2 ## make changes into original set "
   ]
  },
  {
   "cell_type": "markdown",
   "id": "b836dbfc-34bb-498b-ba8b-9a9e6e4a8d1e",
   "metadata": {},
   "source": [
    "## 5."
   ]
  },
  {
   "cell_type": "markdown",
   "id": "0edf3f88-a625-4716-a9ed-075bbadc66bc",
   "metadata": {},
   "source": [
    "'Dictionary is a collection of keys and values, used to store data values like map.'"
   ]
  },
  {
   "cell_type": "code",
   "execution_count": 7,
   "id": "16a0c92f-ec9d-4dc0-842c-ec1f14d2fe46",
   "metadata": {},
   "outputs": [
    {
     "name": "stdout",
     "output_type": "stream",
     "text": [
      "{'name': 'Sagarika', 'age': 27, 'course': 'data_science_masters_class'}\n"
     ]
    },
    {
     "data": {
      "text/plain": [
       "dict"
      ]
     },
     "execution_count": 7,
     "metadata": {},
     "output_type": "execute_result"
    }
   ],
   "source": [
    "## Example of dictionary\n",
    "d1={'name': 'Sagarika', 'age': 27, 'course': 'data_science_masters_class'}\n",
    "print(d1)\n",
    "type(d1)"
   ]
  },
  {
   "cell_type": "markdown",
   "id": "b14510a0-faf8-4a5f-b8cd-599df43e9ba6",
   "metadata": {},
   "source": [
    "'dictionary is unordered.'"
   ]
  },
  {
   "cell_type": "markdown",
   "id": "ac820593-d7b3-4890-a904-2966e07f5e1f",
   "metadata": {},
   "source": [
    "## 6."
   ]
  },
  {
   "cell_type": "code",
   "execution_count": 11,
   "id": "43a27180-4d84-4153-ba03-ebeaa75e1b2f",
   "metadata": {},
   "outputs": [
    {
     "data": {
      "text/plain": [
       "{1: 'apple', 2: 'banana', 3: {'a': 123, 'b': 987}}"
      ]
     },
     "execution_count": 11,
     "metadata": {},
     "output_type": "execute_result"
    }
   ],
   "source": [
    "## Yes, we can create nested dictionary. Example-\n",
    "\n",
    "d2={1:'apple',2:'banana',3:{'a':123,'b':987,}}\n",
    "d2"
   ]
  },
  {
   "cell_type": "markdown",
   "id": "3056161c-5a8c-4e0c-9aa6-27cab032cce9",
   "metadata": {},
   "source": [
    "## 7."
   ]
  },
  {
   "cell_type": "code",
   "execution_count": 13,
   "id": "06669578-4df8-4d46-9be1-ee2730e55dc1",
   "metadata": {},
   "outputs": [],
   "source": [
    "dict1 = {'language' : 'Python', 'course': 'Data Science Masters'}\n"
   ]
  },
  {
   "cell_type": "code",
   "execution_count": 16,
   "id": "ab8f4455-f182-4a45-afd6-122197613f59",
   "metadata": {},
   "outputs": [
    {
     "data": {
      "text/plain": [
       "['Python', 'Machine Learning', 'Deep Learning']"
      ]
     },
     "execution_count": 16,
     "metadata": {},
     "output_type": "execute_result"
    }
   ],
   "source": [
    "dict1.setdefault('topics', ['Python', 'Machine Learning','Deep Learning'])"
   ]
  },
  {
   "cell_type": "code",
   "execution_count": 17,
   "id": "3370988c-981d-4a92-a9a4-1a724a298abd",
   "metadata": {},
   "outputs": [
    {
     "data": {
      "text/plain": [
       "{'language': 'Python',\n",
       " 'course': 'Data Science Masters',\n",
       " 'topics': ['Python', 'Machine Learning', 'Deep Learning']}"
      ]
     },
     "execution_count": 17,
     "metadata": {},
     "output_type": "execute_result"
    }
   ],
   "source": [
    "dict1"
   ]
  },
  {
   "cell_type": "markdown",
   "id": "868c8bbb-61e2-49f6-8aab-d8ecd09d5591",
   "metadata": {},
   "source": [
    "## 8."
   ]
  },
  {
   "cell_type": "markdown",
   "id": "f35f2683-f05b-40ff-9136-f92a655f12ca",
   "metadata": {},
   "source": [
    "Three in-build methods in python to display objects in dictionary are keys(), items() and values()."
   ]
  },
  {
   "cell_type": "code",
   "execution_count": 18,
   "id": "fc6faa99-75d6-4941-a339-0fbe8bbc20da",
   "metadata": {},
   "outputs": [
    {
     "data": {
      "text/plain": [
       "dict_items([('Sport', 'Cricket'), ('Teams', ['India', 'Australia', 'England', 'South Africa', 'Sri Lanka', 'New Zealand'])])"
      ]
     },
     "execution_count": 18,
     "metadata": {},
     "output_type": "execute_result"
    }
   ],
   "source": [
    "## use of items()\n",
    "\n",
    "dict1 = {'Sport': 'Cricket' , 'Teams': ['India', 'Australia', 'England', 'South Africa', 'Sri Lanka', 'New Zealand']}\n",
    "dict1.items()"
   ]
  },
  {
   "cell_type": "code",
   "execution_count": 19,
   "id": "a2e5e3d7-41b6-4c59-bdb9-7e470ef1246a",
   "metadata": {},
   "outputs": [
    {
     "data": {
      "text/plain": [
       "dict_keys(['Sport', 'Teams'])"
      ]
     },
     "execution_count": 19,
     "metadata": {},
     "output_type": "execute_result"
    }
   ],
   "source": [
    "## use of keys()\n",
    "\n",
    "dict1.keys()"
   ]
  },
  {
   "cell_type": "code",
   "execution_count": 20,
   "id": "e9586273-8f38-4a9c-9d92-58c9c8142a7a",
   "metadata": {},
   "outputs": [
    {
     "data": {
      "text/plain": [
       "dict_values(['Cricket', ['India', 'Australia', 'England', 'South Africa', 'Sri Lanka', 'New Zealand']])"
      ]
     },
     "execution_count": 20,
     "metadata": {},
     "output_type": "execute_result"
    }
   ],
   "source": [
    "## use of values()\n",
    "\n",
    "dict1.values()"
   ]
  },
  {
   "cell_type": "code",
   "execution_count": null,
   "id": "b31beb6f-344e-4b3f-bc22-bf61a1704b35",
   "metadata": {},
   "outputs": [],
   "source": []
  }
 ],
 "metadata": {
  "kernelspec": {
   "display_name": "Python 3 (ipykernel)",
   "language": "python",
   "name": "python3"
  },
  "language_info": {
   "codemirror_mode": {
    "name": "ipython",
    "version": 3
   },
   "file_extension": ".py",
   "mimetype": "text/x-python",
   "name": "python",
   "nbconvert_exporter": "python",
   "pygments_lexer": "ipython3",
   "version": "3.10.8"
  }
 },
 "nbformat": 4,
 "nbformat_minor": 5
}
