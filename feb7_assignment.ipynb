{
 "cells": [
  {
   "cell_type": "code",
   "execution_count": 27,
   "id": "d81872fb-9b10-4b4f-a439-3c986c6c7c96",
   "metadata": {},
   "outputs": [],
   "source": [
    "## Q1. Program to check validity of a Password:\n",
    "\n",
    "import re\n",
    "def check_password(password):\n",
    "    \n",
    "    c1= len(password) ==10\n",
    "    c2= len(re.findall(r'[A-Z]',password)) >=2\n",
    "    c3= len(re.findall(r'[a-z]',password)) >=2\n",
    "    c4= len(re.findall(r'\\d',password)) >=1\n",
    "    c5= len(re.findall(r'[\\W_]',password)) >=3\n",
    "    \n",
    "    if c1 & c2 & c3 & c4 & c5:\n",
    "        return \"Valid Password\"\n",
    "    return \"Invalid Password\""
   ]
  },
  {
   "cell_type": "code",
   "execution_count": 28,
   "id": "12725b10-780d-461e-9b87-4b3f03f7b035",
   "metadata": {},
   "outputs": [
    {
     "data": {
      "text/plain": [
       "'Valid Password'"
      ]
     },
     "execution_count": 28,
     "metadata": {},
     "output_type": "execute_result"
    }
   ],
   "source": [
    "check_password(\"aaAA123^$#\")"
   ]
  },
  {
   "cell_type": "code",
   "execution_count": 29,
   "id": "429cf204-32f2-439b-9423-eff73dc16e2b",
   "metadata": {},
   "outputs": [],
   "source": [
    "# Q2. Solve the below-given questions using at least one of the following:\n",
    "# 1. Lambda function\n",
    "# 2. Filter function\n",
    "# 3. Map function\n",
    "# 4. List Comprehension"
   ]
  },
  {
   "cell_type": "code",
   "execution_count": 30,
   "id": "ec9cf5d4-6d90-4423-857a-cc8ee6a2d244",
   "metadata": {},
   "outputs": [
    {
     "data": {
      "text/plain": [
       "<function __main__.<lambda>(x)>"
      ]
     },
     "execution_count": 30,
     "metadata": {},
     "output_type": "execute_result"
    }
   ],
   "source": [
    "# Check if the string starts with a particular letter 'b'\n",
    "lambda x: x[0]=='b'"
   ]
  },
  {
   "cell_type": "code",
   "execution_count": 31,
   "id": "ee97896e-922c-48ea-9306-764b4cc2ff36",
   "metadata": {},
   "outputs": [
    {
     "data": {
      "text/plain": [
       "<function __main__.<lambda>(x)>"
      ]
     },
     "execution_count": 31,
     "metadata": {},
     "output_type": "execute_result"
    }
   ],
   "source": [
    "# Check if the string is numeric\n",
    "\n",
    "lambda x: x.isnumeric()"
   ]
  },
  {
   "cell_type": "code",
   "execution_count": 32,
   "id": "498ddf61-a6ce-45bb-b6e3-1d0bac3691de",
   "metadata": {},
   "outputs": [
    {
     "name": "stdout",
     "output_type": "stream",
     "text": [
      "[('grapes', 1000), ('mango', 99), ('orange', 80)]\n",
      "[('mango', 99), ('orange', 80), ('grapes', 1000)]\n",
      "[('grapes', 1000), ('mango', 99), ('orange', 80)]\n"
     ]
    }
   ],
   "source": [
    "# Sort a list of tuples having fruit names and their quantity. [(\"mango\",99),(\"orange\",80), (\"grapes\", 1000)-\n",
    "\n",
    "l=[(\"mango\",99),(\"orange\",80), (\"grapes\", 1000)]\n",
    "#method 1\n",
    "print(sorted(l,key= lambda x: x[0]))\n",
    "print(l)\n",
    "# method 2\n",
    "l.sort(key= lambda x: x[0])\n",
    "print(l)"
   ]
  },
  {
   "cell_type": "code",
   "execution_count": 33,
   "id": "aa357dfd-2370-4366-9711-08ee68d73512",
   "metadata": {},
   "outputs": [
    {
     "name": "stdout",
     "output_type": "stream",
     "text": [
      "[1, 4, 9, 16, 25, 36, 49, 64, 81, 100]\n"
     ]
    }
   ],
   "source": [
    "# Find the squares of numbers from 1 to 10.\n",
    "\n",
    "l1=[1,2,3,4,5,6,7,8,9,10]\n",
    "l2=map(lambda x: x**2, l1)\n",
    "print(list(l2))"
   ]
  },
  {
   "cell_type": "code",
   "execution_count": 17,
   "id": "28a57aea-dc84-4c9c-a97d-930decbcafcf",
   "metadata": {},
   "outputs": [
    {
     "name": "stdout",
     "output_type": "stream",
     "text": [
      "[1, 8, 27, 64, 125, 216, 343, 512, 729, 1000]\n"
     ]
    }
   ],
   "source": [
    "# Find the cube root of numbers from 1 to 10.\n",
    "\n",
    "l1=[1,2,3,4,5,6,7,8,9,10]\n",
    "l3=map(lambda x: x**3, l1)\n",
    "print(list(l3))"
   ]
  },
  {
   "cell_type": "code",
   "execution_count": 22,
   "id": "9fc35711-603a-4c37-9ef5-de24280c8501",
   "metadata": {},
   "outputs": [
    {
     "data": {
      "text/plain": [
       "True"
      ]
     },
     "execution_count": 22,
     "metadata": {},
     "output_type": "execute_result"
    }
   ],
   "source": [
    "# Check if a given number is even.\n",
    "\n",
    "check_even=(lambda x: x % 2 == 0)\n",
    "check_even(16)"
   ]
  },
  {
   "cell_type": "code",
   "execution_count": 23,
   "id": "11d6ae13-9de8-4308-a0ae-373d089eb53b",
   "metadata": {},
   "outputs": [
    {
     "name": "stdout",
     "output_type": "stream",
     "text": [
      "[1, 3, 5, 7, 9]\n"
     ]
    }
   ],
   "source": [
    "# Filter odd numbers from the given list.\n",
    "# [1,2,3,4,5,6,7,8,9,10]\n",
    "\n",
    "Odd_numbers = (lambda x: x% 2 != 0)\n",
    "l1=[1,2,3,4,5,6,7,8,9,10]\n",
    "print(list(filter(Odd_numbers, l1)))\n"
   ]
  },
  {
   "cell_type": "code",
   "execution_count": 26,
   "id": "04f40161-a198-4d73-9ada-39dff3dadef3",
   "metadata": {},
   "outputs": [
    {
     "name": "stdout",
     "output_type": "stream",
     "text": [
      "list of positive integers: [1, 2, 3, 4, 5, 6, 0] & list of negative integers: [-1, -2, -3, -4, -5] \n"
     ]
    }
   ],
   "source": [
    "# Sort a list of integers into positive and negative integers lists.\n",
    "# [1,2,3,4,5,6,-1,-2,-3,-4,-5,0]\n",
    "\n",
    "l= [1,2,3,4,5,6,-1,-2,-3,-4,-5,0]\n",
    "positive_integer=list(filter(lambda x: x>=0, l))\n",
    "negative_integer=list(filter(lambda x: x<0, l))\n",
    "print(f\"list of positive integers: {positive_integer} & list of negative integers: {negative_integer} \")\n"
   ]
  },
  {
   "cell_type": "code",
   "execution_count": null,
   "id": "905e25e1-0541-4796-8ff4-3b1f6e051146",
   "metadata": {},
   "outputs": [],
   "source": []
  }
 ],
 "metadata": {
  "kernelspec": {
   "display_name": "Python 3 (ipykernel)",
   "language": "python",
   "name": "python3"
  },
  "language_info": {
   "codemirror_mode": {
    "name": "ipython",
    "version": 3
   },
   "file_extension": ".py",
   "mimetype": "text/x-python",
   "name": "python",
   "nbconvert_exporter": "python",
   "pygments_lexer": "ipython3",
   "version": "3.10.8"
  }
 },
 "nbformat": 4,
 "nbformat_minor": 5
}
