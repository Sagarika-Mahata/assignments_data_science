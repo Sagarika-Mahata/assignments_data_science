{
 "cells": [
  {
   "cell_type": "markdown",
   "id": "9ebe5481-c299-4a6e-8af5-d1955c91c081",
   "metadata": {},
   "source": [
    "## Assignment:"
   ]
  },
  {
   "cell_type": "markdown",
   "id": "fe3fa098-feb0-4a99-9c80-65084526ee06",
   "metadata": {},
   "source": [
    "### Q1. What is Statistics?"
   ]
  },
  {
   "cell_type": "markdown",
   "id": "117f96c7-863b-4afd-930d-c09867f48289",
   "metadata": {},
   "source": [
    "It is the science of collecting, organizing and analysing the data. "
   ]
  },
  {
   "cell_type": "markdown",
   "id": "65eff0c6-d0e2-4cf9-abaf-0a69243853cb",
   "metadata": {},
   "source": [
    "### Q2. Define the different types of statistics and give an example of when each type might be used."
   ]
  },
  {
   "cell_type": "markdown",
   "id": "afeb25bc-e1d3-4f24-92f9-1a714d66e52e",
   "metadata": {},
   "source": [
    "There are two kinds of Statistics, which are descriptive Statistics and inferential Statistics. \n",
    "In descriptive Statistics, the Data or Collected Data are described in a summarized way, whereas in inferential Statistics, we make use of it in order to draw conclusion from the data. Both of them are used on a large scale.\n",
    "\n",
    "eg:- If we collect the marks of any particualr subject of 50 students randomely. Then, the Mean, Median, Mode and variance etc. will give us the characteristics of the data (which means summarization of the data). This is the part of descriptive statistics.\n",
    "But on the other hand, if we do hypothesis testing, we can understand more about the population. This is the part of inferential statistics."
   ]
  },
  {
   "cell_type": "markdown",
   "id": "9f84f09d-acba-4bab-a6d3-0d5c786509bf",
   "metadata": {},
   "source": [
    "### Q3. What are the different types of data and how do they differ from each other? Provide an example of each type of data."
   ]
  },
  {
   "cell_type": "markdown",
   "id": "d8678f33-1829-4a90-bede-a83393c65927",
   "metadata": {},
   "source": [
    "There are two types of data, such as Qualitative and Quantitative.\n",
    "\n",
    "Qualitative: This type of data contains string values or categories. We can not perform any mathematical operations over here.\n",
    "eg: gender, review on some product, color etc.\n",
    "\n",
    "Quantitative: This type of data represents numeric values. We can perform mathematical operatons on such data type.\n",
    "eg: weight, No. of bank account, height etc."
   ]
  },
  {
   "cell_type": "markdown",
   "id": "793a77e0-69d0-44cb-a012-0b92e692ed3e",
   "metadata": {},
   "source": [
    "### Q4. Categorise the following datasets with respect to quantitative and qualitative data types:\n",
    "(i) Grading in exam: A+, A, B+, B, C+, C, D, E\n",
    "\n",
    "(ii) Colour of mangoes: yellow, green, orange, red\n",
    "\n",
    "(iii) Height data of a class: [178.9, 179, 179.5, 176, 177.2, 178.3, 175.8,...]\n",
    "\n",
    "(iv) Number of mangoes exported by a farm: [500, 600, 478, 672, ...]"
   ]
  },
  {
   "cell_type": "markdown",
   "id": "d2b7a9b4-4b35-4185-8d47-9334bc046c4a",
   "metadata": {},
   "source": [
    "i) Qualitative data type.\n",
    "\n",
    "ii) Qualitative data type.\n",
    "\n",
    "iii) Quantitative data type.\n",
    "\n",
    "iv) Quantitative data type."
   ]
  },
  {
   "cell_type": "markdown",
   "id": "f7cedb0f-052d-4965-8502-5bc3a5f1c73e",
   "metadata": {},
   "source": [
    "### Q5. Explain the concept of levels of measurement and give an example of a variable for each level."
   ]
  },
  {
   "cell_type": "markdown",
   "id": "0d47f25c-a4b5-43c2-8264-88067d6da5d1",
   "metadata": {},
   "source": [
    "Levels of measurement classify variables based on the nature and characteristics of the data they represent. There are four main levels: nominal, ordinal, interval, and ratio.\n",
    "\n",
    "Levels of Measurement\n",
    "Nominal:\n",
    "\n",
    "Concept: Represents categories without any inherent order.\n",
    "Example: Types of fruit (apple, banana, cherry).\n",
    "Ordinal:\n",
    "\n",
    "Concept: Represents categories with a meaningful order, but the intervals between categories are not necessarily equal.\n",
    "Example: Customer satisfaction ratings (very dissatisfied, dissatisfied, neutral, satisfied, very satisfied).\n",
    "Interval:\n",
    "\n",
    "Concept: Represents ordered categories with equal intervals between values, but no true zero point.\n",
    "Example: Temperature in Celsius (10°C, 20°C, 30°C).\n",
    "Ratio:\n",
    "\n",
    "Concept: Represents ordered categories with equal intervals and a true zero point, allowing for the comparison of absolute magnitudes.\n",
    "Example: Height in centimeters (50 cm, 100 cm, 150 cm)."
   ]
  },
  {
   "cell_type": "markdown",
   "id": "44c3c64f-f3fd-4cbe-848b-1427e7f9e455",
   "metadata": {},
   "source": [
    "### Q6. Why is it important to understand the level of measurement when analyzing data? Provide an example to illustrate your answer."
   ]
  },
  {
   "cell_type": "markdown",
   "id": "99bbd234-7639-4035-b8a8-40991592842f",
   "metadata": {},
   "source": [
    "Understanding the level of measurement is crucial in data analysis because it dictates the appropriate statistical methods and ensures valid conclusions. Different levels (nominal, ordinal, interval, ratio) have distinct properties that influence analysis techniques.\n",
    "\n",
    "Importance\n",
    "Statistical Methods: Guides the selection of suitable tests.\n",
    "Data Interpretation: Prevents incorrect assumptions and conclusions.\n",
    "Data Validity: Ensures reliable results.\n",
    "Example\n",
    "Customer Satisfaction Ratings (1 to 5):\n",
    "\n",
    "Level: Ordinal (ordered but unequal intervals).\n",
    "Correct Analysis: Median, mode, non-parametric tests (e.g., Mann-Whitney U).\n",
    "Incorrect Analysis: Mean, standard deviation, parametric tests (e.g., t-test).\n",
    "Impact: Misapplying methods (e.g., using the mean) can misrepresent customer sentiment and lead to poor decisions. Correct methods provide accurate, actionable insights."
   ]
  },
  {
   "cell_type": "markdown",
   "id": "6fab04ee-8844-44a5-a26f-34c8dc15cc7e",
   "metadata": {},
   "source": [
    "### Q7. How nominal data type is different from ordinal data type."
   ]
  },
  {
   "cell_type": "markdown",
   "id": "fcbecd52-7746-4d17-93ed-7ecf0bb456f3",
   "metadata": {},
   "source": [
    "Nominal vs. Ordinal Data Types:\n",
    "\n",
    "Nominal Data:\n",
    "\n",
    "Definition: Represents categories or names without any inherent order or ranking.\n",
    "Examples: Gender (male, female), Colors (red, blue, green), Types of animals (dog, cat, bird).\n",
    "Key Point: Categories are mutually exclusive and do not have a logical order.\n",
    "\n",
    "Ordinal Data:\n",
    "\n",
    "Definition: Represents categories with a meaningful order or ranking, but the intervals between the categories are not necessarily equal.\n",
    "Examples: Education levels (high school, bachelor's, master's, PhD), Customer satisfaction ratings (poor, fair, good, excellent).\n",
    "Key Point: Categories have a logical sequence, but the differences between them are not quantified."
   ]
  },
  {
   "cell_type": "markdown",
   "id": "87b915d4-80c0-4392-8841-63342ae32c3d",
   "metadata": {},
   "source": [
    "### Q8. Which type of plot can be used to display data in terms of range?"
   ]
  },
  {
   "cell_type": "markdown",
   "id": "8a4ff96d-01c8-48df-973a-7a78dd6daf4c",
   "metadata": {},
   "source": [
    "A box plot (or box-and-whisker plot) is commonly used to display data in terms of range.\n",
    "\n",
    "Reason:\n",
    "    A box plot provides a visual summary of a dataset, showing its central tendency, dispersion, and skewness.\n",
    "It displays the minimum, first quartile (Q1), median (second quartile, Q2), third quartile (Q3), and maximum values, giving a clear picture of the data distribution.\n",
    "\n",
    "Example\n",
    "Suppose you have test scores for three classes and want to compare their distributions. A box plot for each class would show the range, central tendency, and presence of outliers, making it easier to compare the performance across the classes."
   ]
  },
  {
   "cell_type": "markdown",
   "id": "bcd45328-f8c7-429b-a879-c0527e36546c",
   "metadata": {},
   "source": [
    "### Q9. Describe the difference between descriptive and inferential statistics. Give an example of each type of statistics and explain how they are used."
   ]
  },
  {
   "cell_type": "markdown",
   "id": "4eb200b9-7970-4b26-b0c7-23387c16dd17",
   "metadata": {},
   "source": [
    "### Descriptive vs. Inferential Statistics\n",
    "\n",
    "Purpose:\n",
    "Descriptive Statistics: Describe and summarize data.\n",
    "Inferential Statistics: Make predictions or inferences about a population based on a sample.\n",
    "\n",
    "Scope:\n",
    "Descriptive Statistics: Limited to the data at hand.\n",
    "Inferential Statistics: Extends beyond the data to make generalizations.\n",
    "\n",
    "Methods:\n",
    "Descriptive Statistics: Measures of central tendency (mean, median, mode), measures of variability (range, variance, standard deviation), and visualizations (graphs, charts).\n",
    "Inferential Statistics: Estimation (confidence intervals), hypothesis testing (t-tests, chi-square tests), regression analysis, and more.\n",
    "\n",
    "Practical Examples\n",
    "\n",
    "Descriptive Statistics Example: A company analyzes sales data for the past year, calculating the total sales, average monthly sales, and sales distribution across regions to understand their performance and identify trends.\n",
    "\n",
    "Inferential Statistics Example: A pharmaceutical company conducts a clinical trial with a sample of patients to determine the effectiveness of a new drug. The results from the sample are then used to infer the drug's effectiveness in the broader population, helping to decide if the drug should be approved for general use."
   ]
  },
  {
   "cell_type": "markdown",
   "id": "54ac7478-6966-4a74-ba02-f60ea4590b0a",
   "metadata": {},
   "source": [
    "### Q10. What are some common measures of central tendency and variability used in statistics? Explain how each measure can be used to describe a dataset."
   ]
  },
  {
   "cell_type": "markdown",
   "id": "7c6671a6-9915-461f-b6e2-ae2f70456ebd",
   "metadata": {},
   "source": [
    "In statistics, measures of central tendency and variability are essential for summarizing and describing the characteristics of a dataset. Here are some common measures for each:\n",
    "\n",
    "Measures of Central Tendency\n",
    "\n",
    "Mean: The mean is the sum of all values in a dataset divided by the number of values.\n",
    "\n",
    "Median: The median is the middle value of a dataset when the values are arranged in ascending or descending order. If the dataset has an even number of values, the median is the average of the two middle numbers.\n",
    "\n",
    "Mode: The mode is the value that appears most frequently in a dataset.\n",
    "\n",
    "Measures of Variability (Dispersion)\n",
    "\n",
    "Range: The range is the difference between the maximum and minimum values in a dataset.\n",
    "\n",
    "Variance: The variance is the average of the squared differences between each value and the mean of the dataset.\n",
    "\n",
    "Standar Definition: The standard deviation is the square root of the variance.\n",
    "\n",
    "Interquartile Range (IQR): The IQR is the range between the first quartile (25th percentile) and the third quartile (75th percentile).\n",
    "\n",
    "Application in Describing a Dataset \n",
    "Mean: Useful for datasets with a normal distribution or when you need an average value for predictive analytics. \n",
    "Median: Ideal for skewed distributions or when outliers are present, as it provides a better central value. \n",
    "Mode: Helpful for understanding the most frequent value, especially in categorical data. \n",
    "Range: Gives a quick sense of the spread but can be misleading with outliers. \n",
    "Variance and Standard Deviation: Essential for understanding data spread and variability, especially in normally distributed data. IQR: Best for datasets with outliers or non-normal distributions, providing a measure of spread that focuses on the central portion of the data."
   ]
  },
  {
   "cell_type": "code",
   "execution_count": null,
   "id": "1c54bc96-9616-489b-94fb-146223ee1b54",
   "metadata": {},
   "outputs": [],
   "source": []
  }
 ],
 "metadata": {
  "kernelspec": {
   "display_name": "Python 3 (ipykernel)",
   "language": "python",
   "name": "python3"
  },
  "language_info": {
   "codemirror_mode": {
    "name": "ipython",
    "version": 3
   },
   "file_extension": ".py",
   "mimetype": "text/x-python",
   "name": "python",
   "nbconvert_exporter": "python",
   "pygments_lexer": "ipython3",
   "version": "3.10.8"
  }
 },
 "nbformat": 4,
 "nbformat_minor": 5
}
