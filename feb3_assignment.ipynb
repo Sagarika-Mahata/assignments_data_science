{
 "cells": [
  {
   "cell_type": "markdown",
   "id": "27d43e8e-5cf0-4533-ae54-19a620291c00",
   "metadata": {},
   "source": [
    "## 1"
   ]
  },
  {
   "cell_type": "code",
   "execution_count": 3,
   "id": "02e0eced-6053-43d7-8174-4e7c97965efb",
   "metadata": {},
   "outputs": [],
   "source": [
    "# def is used to create a function\n",
    "\n",
    "def test_odd(a,b):\n",
    "    n= []\n",
    "    for i in range(a,b) :\n",
    "        if i % 2 != 0 :\n",
    "            n.append(i)\n",
    "    return n"
   ]
  },
  {
   "cell_type": "code",
   "execution_count": 6,
   "id": "e739c262-a580-4368-8120-3e453dfdb260",
   "metadata": {},
   "outputs": [
    {
     "data": {
      "text/plain": [
       "[1, 3, 5, 7, 9, 11, 13, 15, 17, 19, 21, 23]"
      ]
     },
     "execution_count": 6,
     "metadata": {},
     "output_type": "execute_result"
    }
   ],
   "source": [
    "test_odd(1,25)"
   ]
  },
  {
   "cell_type": "markdown",
   "id": "9f355fcc-633e-4601-a3fc-7fe45c4ed73b",
   "metadata": {},
   "source": [
    "## 2."
   ]
  },
  {
   "cell_type": "markdown",
   "id": "846d8c56-5ee5-4308-8696-7dab6250145a",
   "metadata": {},
   "source": [
    "When we want to pass any number of arguments through a function, we use *args"
   ]
  },
  {
   "cell_type": "code",
   "execution_count": 13,
   "id": "a3b8ee06-7475-4dde-8ff6-6d71def24cf6",
   "metadata": {},
   "outputs": [],
   "source": [
    "## Example of *args\n",
    "\n",
    "\n",
    "def test2(*args):\n",
    "    for i in args:\n",
    "        if type(i) == str :\n",
    "            print(f'its a string {i}')\n",
    "    return args\n",
    "            \n"
   ]
  },
  {
   "cell_type": "code",
   "execution_count": 14,
   "id": "9f40b9b1-1caa-4a64-a7bd-ae85c55ce705",
   "metadata": {},
   "outputs": [
    {
     "name": "stdout",
     "output_type": "stream",
     "text": [
      "its a string a\n",
      "its a string apple\n",
      "its a string hi\n",
      "its a string b\n"
     ]
    },
    {
     "data": {
      "text/plain": [
       "('a', 2, 3, 'apple', 'hi', 'b')"
      ]
     },
     "execution_count": 14,
     "metadata": {},
     "output_type": "execute_result"
    }
   ],
   "source": [
    "test2('a',2,3,'apple', 'hi', 'b')"
   ]
  },
  {
   "cell_type": "markdown",
   "id": "08edfb1c-ec36-4e06-a699-66b12deab811",
   "metadata": {},
   "source": [
    "When we want to pass keys and values as arguments in a function, we use **kwargs"
   ]
  },
  {
   "cell_type": "code",
   "execution_count": 18,
   "id": "4ba9da88-6563-4cbf-8cab-13e317af708a",
   "metadata": {},
   "outputs": [],
   "source": [
    "## Example of *kwargs\n",
    "\n",
    "def test3(**kwargs) :\n",
    "    for i in kwargs.values():\n",
    "        if type(i) == int :\n",
    "            print(i)\n",
    "    return kwargs"
   ]
  },
  {
   "cell_type": "code",
   "execution_count": 19,
   "id": "67d9a5c7-a9fd-4332-8dc0-f2669345db63",
   "metadata": {},
   "outputs": [
    {
     "name": "stdout",
     "output_type": "stream",
     "text": [
      "23\n",
      "43\n"
     ]
    },
    {
     "data": {
      "text/plain": [
       "{'a': 23, 'b': 43, 'c': 'hi', 'd': 'momo', 'e': 5.23}"
      ]
     },
     "execution_count": 19,
     "metadata": {},
     "output_type": "execute_result"
    }
   ],
   "source": [
    "test3(a=23, b=43, c='hi', d='momo', e=5.23)"
   ]
  },
  {
   "cell_type": "markdown",
   "id": "bdb8583f-8588-413d-aa76-558e2a046b7a",
   "metadata": {},
   "source": [
    "## 3."
   ]
  },
  {
   "cell_type": "markdown",
   "id": "3150ecaf-b748-40bc-a9dc-c29bcc155b50",
   "metadata": {},
   "source": [
    "Iterator in Python is an object that is used to iterate over iterable objects like lists, tuples, dictionaries, and sets.\n",
    "The iterator object is initialized using the iter() method. It uses the next() method for iteration."
   ]
  },
  {
   "cell_type": "code",
   "execution_count": 31,
   "id": "ddbacfc6-bf5c-446e-a800-fa11d41509cb",
   "metadata": {},
   "outputs": [],
   "source": [
    "\n",
    "list1= [2, 4, 6, 8, 10, 12, 14, 16, 18, 20]\n",
    "list_iterator=iter(list1)"
   ]
  },
  {
   "cell_type": "code",
   "execution_count": 32,
   "id": "4e3660ad-ac30-478e-b520-6b4cfa25e55a",
   "metadata": {},
   "outputs": [
    {
     "name": "stdout",
     "output_type": "stream",
     "text": [
      "2\n",
      "4\n",
      "6\n",
      "8\n",
      "10\n"
     ]
    }
   ],
   "source": [
    "print(next(list_iterator))\n",
    "print(next(list_iterator))\n",
    "print(next(list_iterator))\n",
    "print(next(list_iterator))\n",
    "print(next(list_iterator))"
   ]
  },
  {
   "cell_type": "markdown",
   "id": "d101ee54-a752-4e3f-a920-2c9caeeab1c7",
   "metadata": {},
   "source": [
    "## 4."
   ]
  },
  {
   "cell_type": "markdown",
   "id": "f670c056-0e2f-45f4-983f-a16fdbbcbf31",
   "metadata": {},
   "source": [
    " A generator-function is defined like a normal function, but whenever it needs to generate a value, it does so with the yield keyword rather than return. If the body of a def contains yield, the function automatically becomes a generator function"
   ]
  },
  {
   "cell_type": "markdown",
   "id": "ea4b0a87-03e1-4fc9-8596-4c770adb87f1",
   "metadata": {},
   "source": [
    "The yield statement suspends a function's execution and sends a value back to the caller, but retains enough state to enable the function to resume where it left off."
   ]
  },
  {
   "cell_type": "code",
   "execution_count": 37,
   "id": "a44b67c2-6019-45e1-9694-5785ce30d614",
   "metadata": {},
   "outputs": [],
   "source": [
    "def fib_generator(n):\n",
    "    a, b = 0, 1\n",
    "    for i in range(n):\n",
    "        yield a\n",
    "        a,b = b, a+b\n",
    "    "
   ]
  },
  {
   "cell_type": "code",
   "execution_count": 38,
   "id": "24afa0bd-b146-4fb9-a506-18f33c77a028",
   "metadata": {},
   "outputs": [
    {
     "name": "stdout",
     "output_type": "stream",
     "text": [
      "0\n",
      "1\n",
      "1\n",
      "2\n",
      "3\n",
      "5\n",
      "8\n",
      "13\n",
      "21\n",
      "34\n"
     ]
    }
   ],
   "source": [
    "fib_generator(10)\n",
    "for i in fib_generator(10):\n",
    "    print(i)"
   ]
  },
  {
   "cell_type": "markdown",
   "id": "3dc39000-322d-4252-9fb0-0769a1ba0d46",
   "metadata": {},
   "source": [
    "## 5."
   ]
  },
  {
   "cell_type": "code",
   "execution_count": 17,
   "id": "4b4f8f1d-bc26-4c53-852a-b9962934821b",
   "metadata": {},
   "outputs": [],
   "source": [
    "def prime_no(x,y):\n",
    "\n",
    "    for i in range(x,y+1):\n",
    "        if i == 0 or i ==1:\n",
    "            continue\n",
    "        else:\n",
    "            for j in range(2, int(i/2)+1):\n",
    "                if i % j == 0:\n",
    "                    break\n",
    "            else:\n",
    "                yield i\n"
   ]
  },
  {
   "cell_type": "code",
   "execution_count": 45,
   "id": "eeadaa4c-791c-4d3e-b231-1f26d17ee90c",
   "metadata": {},
   "outputs": [
    {
     "name": "stdout",
     "output_type": "stream",
     "text": [
      "2\n",
      "3\n",
      "5\n",
      "7\n",
      "11\n",
      "13\n",
      "17\n",
      "19\n",
      "23\n",
      "29\n",
      "31\n",
      "37\n",
      "41\n",
      "43\n",
      "47\n",
      "53\n",
      "59\n",
      "61\n",
      "67\n",
      "71\n"
     ]
    }
   ],
   "source": [
    "x= prime_no(1,1000)\n",
    "for i in range(1,21):\n",
    "    print(next(x))"
   ]
  },
  {
   "cell_type": "code",
   "execution_count": null,
   "id": "9d280e5e-d49e-4c24-b5d2-041a0e473606",
   "metadata": {},
   "outputs": [],
   "source": []
  }
 ],
 "metadata": {
  "kernelspec": {
   "display_name": "Python 3 (ipykernel)",
   "language": "python",
   "name": "python3"
  },
  "language_info": {
   "codemirror_mode": {
    "name": "ipython",
    "version": 3
   },
   "file_extension": ".py",
   "mimetype": "text/x-python",
   "name": "python",
   "nbconvert_exporter": "python",
   "pygments_lexer": "ipython3",
   "version": "3.10.8"
  }
 },
 "nbformat": 4,
 "nbformat_minor": 5
}
