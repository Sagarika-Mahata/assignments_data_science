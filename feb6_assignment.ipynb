{
 "cells": [
  {
   "cell_type": "code",
   "execution_count": 1,
   "id": "a204b261-4701-4501-bf89-4d20bb754b81",
   "metadata": {},
   "outputs": [],
   "source": [
    "## Q1. Creting a program to generate flat list:\n",
    "def my_function(list1):\n",
    "    list2=[]\n",
    "    for x in list1:\n",
    "        if type(x) in [list, tuple, set]:\n",
    "            list2.extend(x)\n",
    "        elif type(x)== dict:\n",
    "            for key, value in x.items():\n",
    "                if type(value) in [list, tuple, set]:\n",
    "                    temp=[key, *value]\n",
    "                else:\n",
    "                    temp=[key,value]\n",
    "                list2.extend(temp)\n",
    "        else:\n",
    "            list2.append(x)\n",
    "    print(list2)"
   ]
  },
  {
   "cell_type": "code",
   "execution_count": 2,
   "id": "a7e0d951-07c2-4f6f-ba5d-c8ad3ea9684d",
   "metadata": {},
   "outputs": [
    {
     "name": "stdout",
     "output_type": "stream",
     "text": [
      "[1, 2, 3, 4, 44, 55, 66, True, False, 34, 56, 78, 89, 34, 1, 2, 3, 1, 34, 'key2', 55, 67, 78, 89, 4, 45, 22, 61, 34, 56, 'data science', 'Machine Learning']\n"
     ]
    }
   ],
   "source": [
    "list1 = [1,2,3,4, [44,55,66, True], False, (34,56,78,89,34), {1,2,3,3,2,1}, {1:34, \"key2\": [55, 67, 78, 89], 4: (45,22, 61, 34)}, [56, 'data science'], 'Machine Learning']\n",
    "\n",
    "my_function(list1)"
   ]
  },
  {
   "cell_type": "code",
   "execution_count": 5,
   "id": "023d70e4-d688-4419-bea4-356dc924d76d",
   "metadata": {},
   "outputs": [
    {
     "name": "stdin",
     "output_type": "stream",
     "text": [
      "Enter your message:  I want to become a Data Scientist.\n"
     ]
    },
    {
     "name": "stdout",
     "output_type": "stream",
     "text": [
      "r$dzmg$gl$yvxlnv$z$wzgz$hxrvmgrhg.\n"
     ]
    }
   ],
   "source": [
    "## Q2. Program for encrpting a message:\n",
    "\n",
    "message= input(\"Enter your message: \")\n",
    "message1= message.lower()\n",
    "result = \"\"\n",
    "for char in message1:\n",
    "    if char.isalpha():\n",
    "        result += chr(ord('a') + ord('z') - ord(char))\n",
    "    elif char.isspace():\n",
    "        result += \"$\"\n",
    "    else:\n",
    "        result += char\n",
    "print(result)"
   ]
  },
  {
   "cell_type": "code",
   "execution_count": null,
   "id": "4721e3a0-0932-4202-9a69-0463f5be438e",
   "metadata": {},
   "outputs": [],
   "source": []
  }
 ],
 "metadata": {
  "kernelspec": {
   "display_name": "Python 3 (ipykernel)",
   "language": "python",
   "name": "python3"
  },
  "language_info": {
   "codemirror_mode": {
    "name": "ipython",
    "version": 3
   },
   "file_extension": ".py",
   "mimetype": "text/x-python",
   "name": "python",
   "nbconvert_exporter": "python",
   "pygments_lexer": "ipython3",
   "version": "3.10.8"
  }
 },
 "nbformat": 4,
 "nbformat_minor": 5
}
