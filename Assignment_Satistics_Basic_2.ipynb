{
 "cells": [
  {
   "cell_type": "markdown",
   "metadata": {},
   "source": [
    "## Statistics Basic-2"
   ]
  },
  {
   "cell_type": "markdown",
   "metadata": {},
   "source": [
    "### Q1. What are the three measures of central tendency?"
   ]
  },
  {
   "cell_type": "markdown",
   "metadata": {},
   "source": [
    "Mean, Median and Mode are three measures of central tendencies. "
   ]
  },
  {
   "cell_type": "markdown",
   "metadata": {},
   "source": [
    "### Q2. What is the difference between the mean, median, and mode? How are they used to measure the central tendency of a dataset?"
   ]
  },
  {
   "cell_type": "markdown",
   "metadata": {},
   "source": [
    "Differences\n",
    "Mean is the arithmetic average of a dataset. It's calculated by summing all values and dividing by the number of values. It's sensitive to outliers.\n",
    "Median is the middle value of a dataset when arranged in order. It's less affected by outliers than the mean.\n",
    "Mode is the most frequently occurring value in a dataset. There can be one mode, multiple modes (bimodal, trimodal, etc.), or no mode.\n"
   ]
  },
  {
   "cell_type": "markdown",
   "metadata": {},
   "source": [
    "### Q3. Measure the three measures of central tendency for the given height data:\n",
    "[178,177,176,177,178.2,178,175,179,180,175,178.9,176.2,177,172.5,178,176.5]"
   ]
  },
  {
   "cell_type": "code",
   "execution_count": 3,
   "metadata": {},
   "outputs": [],
   "source": [
    "import numpy as np"
   ]
  },
  {
   "cell_type": "code",
   "execution_count": 1,
   "metadata": {},
   "outputs": [],
   "source": [
    "height= [178,177,176,177,178.2,178,175,179,180,175,178.9,176.2,177,172.5,178,176.5]"
   ]
  },
  {
   "cell_type": "code",
   "execution_count": 5,
   "metadata": {},
   "outputs": [
    {
     "data": {
      "text/plain": [
       "177.01875"
      ]
     },
     "execution_count": 5,
     "metadata": {},
     "output_type": "execute_result"
    }
   ],
   "source": [
    "mean= np.mean(height) #Mean value\n",
    "mean"
   ]
  },
  {
   "cell_type": "code",
   "execution_count": 7,
   "metadata": {},
   "outputs": [
    {
     "data": {
      "text/plain": [
       "177.0"
      ]
     },
     "execution_count": 7,
     "metadata": {},
     "output_type": "execute_result"
    }
   ],
   "source": [
    "median= np.median(height) #Median value\n",
    "median"
   ]
  },
  {
   "cell_type": "code",
   "execution_count": 8,
   "metadata": {},
   "outputs": [
    {
     "data": {
      "text/plain": [
       "ModeResult(mode=177.0, count=3)"
      ]
     },
     "execution_count": 8,
     "metadata": {},
     "output_type": "execute_result"
    }
   ],
   "source": [
    "from scipy import stats\n",
    "mode= stats.mode(height)\n",
    "mode\n"
   ]
  },
  {
   "cell_type": "markdown",
   "metadata": {},
   "source": [
    "### Q4. Find the standard deviation for the given data:\n",
    "[178,177,176,177,178.2,178,175,179,180,175,178.9,176.2,177,172.5,178,176.5]"
   ]
  },
  {
   "cell_type": "code",
   "execution_count": 9,
   "metadata": {},
   "outputs": [
    {
     "data": {
      "text/plain": [
       "1.7885814036548633"
      ]
     },
     "execution_count": 9,
     "metadata": {},
     "output_type": "execute_result"
    }
   ],
   "source": [
    "standard_deviation= np.std(height)\n",
    "standard_deviation"
   ]
  },
  {
   "cell_type": "markdown",
   "metadata": {},
   "source": [
    "### Q5. How are measures of dispersion such as range, variance, and standard deviation used to describe the spread of a dataset? Provide an example."
   ]
  },
  {
   "cell_type": "markdown",
   "metadata": {},
   "source": [
    "Measures of Dispersion\n",
    "Measures of dispersion quantify how spread out data points are.\n",
    "\n",
    "Range: The simplest measure, it's the difference between the highest and lowest values. For example, in the dataset [2, 5, 7, 8, 10], the range is 10 - 2 = 8.\n",
    "\n",
    "Variance: Calculates the average squared distance of each data point from the mean. It gives a sense of how much the data varies. A higher variance indicates more spread.\n",
    "\n",
    "Standard Deviation: The square root of variance, it brings the units back to the original data's scale. It's more commonly used than variance as it's in the same units as the data.   \n",
    "\n",
    "For instance, consider two classes' test scores: Class A: [70, 75, 80, 85, 90] and Class B: [60, 70, 80, 90, 100]. Both classes have the same mean (80), but Class B has a higher range and standard deviation, indicating more spread in scores."
   ]
  },
  {
   "cell_type": "markdown",
   "metadata": {},
   "source": [
    "### Q6. What is a Venn diagram?"
   ]
  },
  {
   "cell_type": "markdown",
   "metadata": {},
   "source": [
    "A Venn diagram is a visual representation of sets and the relationships among them. It consists of overlapping circles, where each circle represents a set of items or elements that share a particular characteristic."
   ]
  },
  {
   "cell_type": "markdown",
   "metadata": {},
   "source": [
    "### Q7. For the two given sets A = (2,3,4,5,6,7) & B = (0,2,6,8,10). Find:\n",
    "(i) A intersection B\n",
    "(ii) A ⋃ B"
   ]
  },
  {
   "cell_type": "code",
   "execution_count": 12,
   "metadata": {},
   "outputs": [
    {
     "name": "stdout",
     "output_type": "stream",
     "text": [
      "A Intersection B:  {2, 6}\n",
      "A Union B:  {0, 2, 3, 4, 5, 6, 7, 8, 10}\n"
     ]
    }
   ],
   "source": [
    "A= {2,3,4,5,6,7}\n",
    "B= {0,2,6,8,10}\n",
    "\n",
    "print(\"A Intersection B: \", A & B )\n",
    "print(\"A Union B: \", A | B )\n"
   ]
  },
  {
   "cell_type": "markdown",
   "metadata": {},
   "source": [
    "### Q8. What do you understand about skewness in data?"
   ]
  },
  {
   "cell_type": "markdown",
   "metadata": {},
   "source": [
    "Skewness is a statistical measure that describes the asymmetry of a probability distribution. It indicates whether the tail of a distribution is longer on the left or right side.   \n",
    "\n",
    "Positive skewness: The tail is longer on the right side. This means most values are clustered on the left, with a few outliers on the right. Income distribution is often positively skewed.   \n",
    "\n",
    "Negative skewness: The tail is longer on the left side. Most values are clustered on the right, with a few outliers on the left. Exam scores with many high scores might be negatively skewed.   \n",
    "\n",
    "Skewness is important because it can affect the choice of statistical methods and the interpretation of results. 1  For example, the mean might not be the best measure of central tendency for skewed data."
   ]
  },
  {
   "cell_type": "markdown",
   "metadata": {},
   "source": [
    "### Q9. If a data is right skewed then what will be the position of median with respect to mean?"
   ]
  },
  {
   "cell_type": "markdown",
   "metadata": {},
   "source": [
    "Median will be smaller than mean. Therefore, median will on the left to mean.  "
   ]
  },
  {
   "cell_type": "markdown",
   "metadata": {},
   "source": [
    "### Q10. Explain the difference between covariance and correlation. How are these measures used in statistical analysis?"
   ]
  },
  {
   "cell_type": "markdown",
   "metadata": {},
   "source": [
    "Covariance\n",
    "\n",
    " measures how two variables change together. It indicates the direction of the relationship (positive or negative) but is affected by units.   \n",
    "\n",
    "Correlation measures both the strength and direction of the relationship between two variables. It's standardized between -1 and 1, making it easier to compare relationships across different datasets.   \n",
    "\n",
    "Both are used to understand how variables are related, aiding in tasks like feature selection, risk assessment, and building predictive models."
   ]
  },
  {
   "cell_type": "markdown",
   "metadata": {},
   "source": [
    "### Q11. What is the formula for calculating the sample mean? Provide an example calculation for a dataset."
   ]
  },
  {
   "cell_type": "markdown",
   "metadata": {},
   "source": [
    "The sample mean, denoted as x̄, is the average of a set of numbers. It's calculated by summing all the values in the dataset and then dividing by the total number of values.   \n",
    "\n",
    "Formula:\n",
    "x̄ = Σx / n\n",
    "\n",
    "Example:\n"
   ]
  },
  {
   "cell_type": "code",
   "execution_count": 15,
   "metadata": {},
   "outputs": [
    {
     "name": "stdout",
     "output_type": "stream",
     "text": [
      "170\n",
      "7\n",
      "mean:  24.285714285714285\n"
     ]
    }
   ],
   "source": [
    "#let this is a sample of marks got by some student, collected randomly.\n",
    "sample_marks = [25,30,40,35,15,20,5]\n",
    "\n",
    "#Now to find its mean, first we need to find the total of all the marks.\n",
    "total_marks= sum(sample_marks)\n",
    "print(total_marks)\n",
    "\n",
    "#Now we need the total count of the observations.\n",
    "total_count= len(sample_marks)\n",
    "print(total_count)\n",
    "\n",
    "# appling the sample mean formula:\n",
    "mean= total_marks/total_count\n",
    "print(\"mean: \", mean)"
   ]
  },
  {
   "cell_type": "markdown",
   "metadata": {},
   "source": [
    "### Q12. For a normal distribution data what is the relationship between its measure of central tendency?"
   ]
  },
  {
   "cell_type": "markdown",
   "metadata": {},
   "source": [
    "Mean= median= mode."
   ]
  },
  {
   "cell_type": "markdown",
   "metadata": {},
   "source": [
    "### Q13. How is covariance different from correlation?"
   ]
  },
  {
   "cell_type": "markdown",
   "metadata": {},
   "source": [
    "Covariance measures how two variables change together, but its value depends on the units of measurement. Correlation is a standardized version of covariance, ranging from -1 to 1. It indicates both the direction and strength of the linear relationship between two variables, making it easier to interpret and compare."
   ]
  },
  {
   "cell_type": "markdown",
   "metadata": {},
   "source": [
    "### Q14. How do outliers affect measures of central tendency and dispersion? Provide an example."
   ]
  },
  {
   "cell_type": "markdown",
   "metadata": {},
   "source": [
    "Outliers significantly impact mean but have less effect on median and mode. They inflate range and standard deviation, overestimating data spread.\n",
    "\n",
    "Example:"
   ]
  },
  {
   "cell_type": "code",
   "execution_count": 16,
   "metadata": {},
   "outputs": [
    {
     "name": "stdout",
     "output_type": "stream",
     "text": [
      "Without outlier:\n",
      "Mean: 22.8\n",
      "Median: 4.0\n",
      "Standard deviation: 38.61295119516249\n",
      "\n",
      "With outlier:\n",
      "Mean: 202.8\n",
      "Median: 4.0\n",
      "Standard deviation: 398.60125438839253\n"
     ]
    }
   ],
   "source": [
    "import numpy as np\n",
    "\n",
    "data = [2, 3, 4, 5, 100]\n",
    "\n",
    "# Without outlier\n",
    "print(\"Without outlier:\")\n",
    "print(\"Mean:\", np.mean(data))\n",
    "print(\"Median:\", np.median(data))\n",
    "print(\"Standard deviation:\", np.std(data))\n",
    "\n",
    "# With outlier\n",
    "data_with_outlier = [2, 3, 4, 5, 1000]\n",
    "print(\"\\nWith outlier:\")\n",
    "print(\"Mean:\", np.mean(data_with_outlier))\n",
    "print(\"Median:\", np.median(data_with_outlier))\n",
    "print(\"Standard deviation:\", np.std(data_with_outlier))\n"
   ]
  },
  {
   "cell_type": "code",
   "execution_count": null,
   "metadata": {},
   "outputs": [],
   "source": []
  }
 ],
 "metadata": {
  "kernelspec": {
   "display_name": "Python 3",
   "language": "python",
   "name": "python3"
  },
  "language_info": {
   "codemirror_mode": {
    "name": "ipython",
    "version": 3
   },
   "file_extension": ".py",
   "mimetype": "text/x-python",
   "name": "python",
   "nbconvert_exporter": "python",
   "pygments_lexer": "ipython3",
   "version": "3.11.9"
  }
 },
 "nbformat": 4,
 "nbformat_minor": 2
}
