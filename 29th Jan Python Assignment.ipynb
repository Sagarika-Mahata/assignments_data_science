{
 "cells": [
  {
   "cell_type": "markdown",
   "id": "80eb3a62-c9c7-456f-b26c-32a40abc6229",
   "metadata": {},
   "source": [
    "### 1. Who developed python programming language?"
   ]
  },
  {
   "cell_type": "markdown",
   "id": "961f8488-caf7-425e-ab32-4da6bb1bf528",
   "metadata": {},
   "source": [
    "Guido van Rossum is the creator of the Python programming language. He began working on Python in the late 1980s and released the first version in 1991."
   ]
  },
  {
   "cell_type": "markdown",
   "id": "73ad8737-cddd-4057-9f1d-f44fc7496902",
   "metadata": {},
   "source": [
    "### 2. Which type of programming does python support?"
   ]
  },
  {
   "cell_type": "markdown",
   "id": "eafb57a9-4ce0-41cf-b809-a9a157a43f46",
   "metadata": {},
   "source": [
    "Python is a versatile programming language supporting multiple paradigms.\n",
    "\n",
    "It excels as an object-oriented language, allowing code organization into reusable objects. Its clear syntax supports structured programming effectively. Additionally, Python embraces functional programming concepts, providing flexibility for different problem-solving approaches. "
   ]
  },
  {
   "cell_type": "markdown",
   "id": "4006a779-3432-44a9-8cb1-ba69f5008476",
   "metadata": {},
   "source": [
    "### 3. Is python case sensitive when dealing with identifier?"
   ]
  },
  {
   "cell_type": "markdown",
   "id": "ad51afac-94aa-43af-8cad-23500172205d",
   "metadata": {},
   "source": [
    "Yes, python is case sensitive."
   ]
  },
  {
   "cell_type": "markdown",
   "id": "61716012-fedd-4470-bc3a-97e18a66848e",
   "metadata": {},
   "source": [
    "### 4. What is the correct extension of the python file?"
   ]
  },
  {
   "cell_type": "markdown",
   "id": "f034b033-c903-4734-8531-8fea19f47e0d",
   "metadata": {},
   "source": [
    ".py is the corret extension for python file."
   ]
  },
  {
   "cell_type": "markdown",
   "id": "1324874f-4501-408c-bfc7-d0d240b230f1",
   "metadata": {},
   "source": [
    "### 5. is python code compiled or interpreted?"
   ]
  },
  {
   "cell_type": "markdown",
   "id": "347f7afe-7220-45a4-a8db-0f507d2ac4bb",
   "metadata": {},
   "source": [
    "Python is primarily considered an interpreted language.\n",
    "\n",
    "This means the code is executed line by line without requiring a separate compilation step before running."
   ]
  },
  {
   "cell_type": "markdown",
   "id": "4926056f-d5ed-4604-b540-5f1b99fd0484",
   "metadata": {},
   "source": [
    "### 6. Name a few blocks of code used to define in python language?"
   ]
  },
  {
   "cell_type": "markdown",
   "id": "dd87d437-9242-464d-b98a-4a93e27857b2",
   "metadata": {},
   "source": [
    "Python uses indentation to define blocks of code.\n",
    "\n",
    "Here are some common code blocks in Python:\n",
    "\n",
    "Functions: Defined using the def keyword, followed by the function name, parameters, and a colon.\n",
    "\n",
    "Classes: Defined using the class keyword, followed by the class name and a colon.\n",
    "\n",
    "Conditional statements: Defined using if, elif, and else keywords, followed by a condition and a colon.\n",
    "\n",
    "Loops: Defined using for and while keywords, followed by an expression and a colon."
   ]
  },
  {
   "cell_type": "markdown",
   "id": "bad21abc-e80f-4c49-bcef-2f06fa070b02",
   "metadata": {},
   "source": [
    " ### 7. State a character used to give single-line comments in python? "
   ]
  },
  {
   "cell_type": "markdown",
   "id": "31340b3a-2d81-4549-ac42-b30e2815d604",
   "metadata": {},
   "source": [
    "(#) is used to indicate a single-line comment in Python. Any text following the # on a line is ignored by the interpreter."
   ]
  },
  {
   "cell_type": "markdown",
   "id": "a76713f9-6cc4-46b9-8218-d183b661938a",
   "metadata": {},
   "source": [
    "### 8. Mention functions which can help us to fine the version of python that we are currently working on?"
   ]
  },
  {
   "cell_type": "markdown",
   "id": "b4c27e5b-62ee-4586-9a95-6023a689547a",
   "metadata": {},
   "source": [
    "Specifically, the sys.version attribute will provide detailed information about the Python version, including the build number, compiler, and platform.\n",
    "\n"
   ]
  },
  {
   "cell_type": "code",
   "execution_count": 3,
   "id": "70920f98-1c17-42fa-bdd3-5a31cc5f8381",
   "metadata": {},
   "outputs": [
    {
     "name": "stdout",
     "output_type": "stream",
     "text": [
      "3.9.19 (main, May  6 2024, 20:12:36) [MSC v.1916 64 bit (AMD64)]\n"
     ]
    }
   ],
   "source": [
    "import sys\n",
    "print(sys.version)"
   ]
  },
  {
   "cell_type": "markdown",
   "id": "c3be0931-0365-4a85-a37f-9f29d483edae",
   "metadata": {},
   "source": [
    "### 9. Python supports the creation of anonymous functions at runtime, using a construct called _________."
   ]
  },
  {
   "cell_type": "markdown",
   "id": "90a78cb7-f32a-4748-a3ed-95fc4956e0e5",
   "metadata": {},
   "source": [
    "lambda"
   ]
  },
  {
   "cell_type": "markdown",
   "id": "df6b53e0-9789-4315-a4b2-9e86d06ac7e8",
   "metadata": {},
   "source": [
    "### 10. What does pip stands for?"
   ]
  },
  {
   "cell_type": "markdown",
   "id": "83a9f2bb-eb59-4c9e-a8cc-f3f9881f543a",
   "metadata": {},
   "source": [
    "Package installer for python"
   ]
  },
  {
   "cell_type": "markdown",
   "id": "50801812-324d-40b9-a4c9-2f02ce47a201",
   "metadata": {},
   "source": [
    "### 11. Mention a few buildin function in python?"
   ]
  },
  {
   "cell_type": "markdown",
   "id": "43b1f480-9d81-4834-ac32-7759d3ed4bc2",
   "metadata": {},
   "source": [
    "abs(x): Returns the absolute value of x.\n",
    "pow(x, y): Returns x raised to the power of y.\n",
    "round(x, n): Rounds x to n decimal places.\n",
    "int(x): Converts x to an integer.\n",
    "float(x): Converts x to a floating-point number.\n",
    "str(x): Converts x to a string.\n",
    "len(s): Returns the length of s.\n",
    "range(start, stop, step): Generates a sequence of numbers.\n",
    "list(iterable): Converts an iterable to a list."
   ]
  },
  {
   "cell_type": "markdown",
   "id": "73cf70d7-5436-49d8-8a15-5c451830e433",
   "metadata": {},
   "source": [
    "### 12. What is the maximum possible length of an identifier in python?\n"
   ]
  },
  {
   "cell_type": "markdown",
   "id": "c547f4a4-056b-4476-b341-495b802f3699",
   "metadata": {},
   "source": [
    "Technically, there's no strict limit to the length of an identifier in Python. However, the PEP 8 style guide recommends keeping lines of code (including identifiers) to a maximum of 79 characters for better readability"
   ]
  },
  {
   "cell_type": "markdown",
   "id": "839de3eb-47c0-4235-9966-29a37fad9803",
   "metadata": {},
   "source": [
    "### 13. What are the benefit of using python?"
   ]
  },
  {
   "cell_type": "markdown",
   "id": "d77b96c8-17ec-4120-882a-efd6afcad4de",
   "metadata": {},
   "source": [
    "Python's simplicity and readability make it a beginner-friendly language, fostering rapid learning and development.\n",
    "\n",
    " Its versatility shines across domains, from web development (Django, Flask) to data science (NumPy, Pandas, Scikit-learn) and machine learning (TensorFlow, PyTorch). A vast standard library and a supportive community accelerate development. Python's interpreted nature allows for quick testing and debugging, enhancing productivity. Moreover, its cross-platform compatibility ensures code reusability across different operating systems. These factors collectively contribute to Python's popularity as a language for both small scripts and large-scale applications.\n"
   ]
  },
  {
   "cell_type": "markdown",
   "id": "de2c71dc-aeb8-4022-bc79-703f7335ffb5",
   "metadata": {},
   "source": [
    "### 14. How is memory managed in python?"
   ]
  },
  {
   "cell_type": "markdown",
   "id": "d3c5ce48-6e50-457a-ad2d-cfc8c1387a15",
   "metadata": {},
   "source": [
    "Python handles memory automatically using a garbage collector. Objects are stored on the heap, and when no longer referenced, the garbage collector reclaims their memory. This simplifies programming but understanding the concept can optimize code. Avoid unnecessary object creation and use generators or iterators for large datasets to manage memory efficiently."
   ]
  },
  {
   "cell_type": "markdown",
   "id": "91348e47-4e46-4287-8c40-33e1f46573e2",
   "metadata": {},
   "source": [
    "### 15. How to install python and set path variables?"
   ]
  },
  {
   "cell_type": "markdown",
   "id": "a27d9cba-9f73-4cc0-8543-f59b92a62708",
   "metadata": {},
   "source": [
    "To install Python, download the appropriate installer from \n",
    "\n",
    "https://www.python.org/downloads/. Run the installer, typically checking the option to add Python to the PATH. This allows you to run Python from any command prompt.   \n",
    "\n",
    "On Windows, access environment variables through system settings, find the PATH variable, and add the Python installation directory and Scripts folder. On macOS/Linux, edit the .bashrc or .zshrc file to include the Python path in the PATH variable.   \n",
    "\n",
    "Once installed and the PATH is set, open a terminal and type python --version to verify. Successful installation will display the Python version."
   ]
  },
  {
   "cell_type": "markdown",
   "id": "b295a0c4-4bc2-4c3e-9cde-94a8b4e692aa",
   "metadata": {},
   "source": [
    "### 16. Is indentation is required in python?"
   ]
  },
  {
   "cell_type": "markdown",
   "id": "007db99c-4bfe-4b31-95a9-1cd095330f1b",
   "metadata": {},
   "source": [
    "Absolutely, yes."
   ]
  },
  {
   "cell_type": "code",
   "execution_count": null,
   "id": "abb9cbe3-8366-460b-bba0-525e676a2c22",
   "metadata": {},
   "outputs": [],
   "source": []
  }
 ],
 "metadata": {
  "kernelspec": {
   "display_name": "Python 3 (ipykernel)",
   "language": "python",
   "name": "python3"
  },
  "language_info": {
   "codemirror_mode": {
    "name": "ipython",
    "version": 3
   },
   "file_extension": ".py",
   "mimetype": "text/x-python",
   "name": "python",
   "nbconvert_exporter": "python",
   "pygments_lexer": "ipython3",
   "version": "3.9.19"
  }
 },
 "nbformat": 4,
 "nbformat_minor": 5
}
