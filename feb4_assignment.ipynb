{
 "cells": [
  {
   "cell_type": "markdown",
   "id": "8df99fac-3132-403b-a202-18038c63cdd2",
   "metadata": {},
   "source": [
    "## 1."
   ]
  },
  {
   "cell_type": "code",
   "execution_count": 7,
   "id": "04ff2750-41bb-4812-8a58-068ebae41a39",
   "metadata": {},
   "outputs": [],
   "source": [
    "lst= [('Sachin Tendulkar', 34357), ('Ricky Ponting', 27483), ('Jack Kallis', 25534), ('Virat Kohli', 24936)]"
   ]
  },
  {
   "cell_type": "code",
   "execution_count": 11,
   "id": "8f1a8f28-8af1-415d-838c-21ec1a7ef93e",
   "metadata": {},
   "outputs": [],
   "source": [
    "def sort_tuple(l):\n",
    "    l.sort( key= lambda x: x[1])\n",
    "    return l"
   ]
  },
  {
   "cell_type": "code",
   "execution_count": 12,
   "id": "1aedfb01-5a37-4e47-b8b2-97c46b8799e3",
   "metadata": {},
   "outputs": [
    {
     "data": {
      "text/plain": [
       "[('Virat Kohli', 24936),\n",
       " ('Jack Kallis', 25534),\n",
       " ('Ricky Ponting', 27483),\n",
       " ('Sachin Tendulkar', 34357)]"
      ]
     },
     "execution_count": 12,
     "metadata": {},
     "output_type": "execute_result"
    }
   ],
   "source": [
    "sort_tuple(lst)"
   ]
  },
  {
   "cell_type": "markdown",
   "id": "e9fac254-f60a-4842-ba14-49c6c0bf0c01",
   "metadata": {},
   "source": [
    "## 2."
   ]
  },
  {
   "cell_type": "code",
   "execution_count": 1,
   "id": "31e808bc-869f-491d-a44d-ddb72c5793b5",
   "metadata": {},
   "outputs": [],
   "source": [
    "list1= [1, 2, 3, 4, 5, 6, 7, 8, 9, 10]"
   ]
  },
  {
   "cell_type": "code",
   "execution_count": 2,
   "id": "a56b94a0-5425-4acb-9a73-aa6b8f513849",
   "metadata": {},
   "outputs": [
    {
     "data": {
      "text/plain": [
       "[1, 4, 9, 16, 25, 36, 49, 64, 81, 100]"
      ]
     },
     "execution_count": 2,
     "metadata": {},
     "output_type": "execute_result"
    }
   ],
   "source": [
    "list(map(lambda x: x**2, list1))"
   ]
  },
  {
   "cell_type": "markdown",
   "id": "340f58c1-e880-45e5-b59e-a2f3b28ace98",
   "metadata": {},
   "source": [
    "## 3."
   ]
  },
  {
   "cell_type": "code",
   "execution_count": 3,
   "id": "ef2d0f51-526b-4a09-9d89-a034e0ea5753",
   "metadata": {},
   "outputs": [],
   "source": [
    "list2= [1, 2, 3, 4, 5, 6, 7, 8, 9, 10]"
   ]
  },
  {
   "cell_type": "code",
   "execution_count": 4,
   "id": "aa14205b-044b-417d-9f9f-76ed5650ca15",
   "metadata": {},
   "outputs": [
    {
     "data": {
      "text/plain": [
       "['1', '2', '3', '4', '5', '6', '7', '8', '9', '10']"
      ]
     },
     "execution_count": 4,
     "metadata": {},
     "output_type": "execute_result"
    }
   ],
   "source": [
    "list(map(lambda x: str(x) , list2))"
   ]
  },
  {
   "cell_type": "markdown",
   "id": "90d98baf-2f82-4d3f-904a-a6910b4e3756",
   "metadata": {},
   "source": [
    "## 4"
   ]
  },
  {
   "cell_type": "code",
   "execution_count": 5,
   "id": "fa384003-1f68-49e1-9ebb-e956b43f8ec0",
   "metadata": {},
   "outputs": [],
   "source": [
    "from functools import reduce"
   ]
  },
  {
   "cell_type": "code",
   "execution_count": 12,
   "id": "7c13894e-d486-4078-bc77-36e2feb2aeeb",
   "metadata": {},
   "outputs": [
    {
     "data": {
      "text/plain": [
       "[1,\n",
       " 2,\n",
       " 3,\n",
       " 4,\n",
       " 5,\n",
       " 6,\n",
       " 7,\n",
       " 8,\n",
       " 9,\n",
       " 10,\n",
       " 11,\n",
       " 12,\n",
       " 13,\n",
       " 14,\n",
       " 15,\n",
       " 16,\n",
       " 17,\n",
       " 18,\n",
       " 19,\n",
       " 20,\n",
       " 21,\n",
       " 22,\n",
       " 23,\n",
       " 24,\n",
       " 25]"
      ]
     },
     "execution_count": 12,
     "metadata": {},
     "output_type": "execute_result"
    }
   ],
   "source": [
    "list3"
   ]
  },
  {
   "cell_type": "code",
   "execution_count": 11,
   "id": "2818da34-6eb4-4360-97a6-d0cef7a6fdfd",
   "metadata": {},
   "outputs": [],
   "source": [
    "list3= list(range(1,26))"
   ]
  },
  {
   "cell_type": "code",
   "execution_count": 13,
   "id": "45150f1b-ee49-47a6-9281-3fd8268c9e57",
   "metadata": {},
   "outputs": [],
   "source": [
    "multiplication=lambda x,y : x*y"
   ]
  },
  {
   "cell_type": "code",
   "execution_count": 14,
   "id": "481a5bb1-8e5d-407e-8ae3-592b9038d10c",
   "metadata": {},
   "outputs": [
    {
     "data": {
      "text/plain": [
       "15511210043330985984000000"
      ]
     },
     "execution_count": 14,
     "metadata": {},
     "output_type": "execute_result"
    }
   ],
   "source": [
    "reduce(multiplication, list3)"
   ]
  },
  {
   "cell_type": "markdown",
   "id": "76236744-7ab5-49ea-9f57-555dfc9bf614",
   "metadata": {},
   "source": [
    "## 5."
   ]
  },
  {
   "cell_type": "code",
   "execution_count": 15,
   "id": "32455898-36f2-4c0f-92fd-70e3a315ab8d",
   "metadata": {},
   "outputs": [],
   "source": [
    "list4= [2, 3, 6, 9, 27, 60, 90, 120, 55, 46]"
   ]
  },
  {
   "cell_type": "code",
   "execution_count": 17,
   "id": "a8d2ded3-a904-4ce8-ae8d-63d7ccfc8696",
   "metadata": {},
   "outputs": [
    {
     "data": {
      "text/plain": [
       "[6, 60, 90, 120]"
      ]
     },
     "execution_count": 17,
     "metadata": {},
     "output_type": "execute_result"
    }
   ],
   "source": [
    "list(filter( lambda x: x%6 ==0 , list4))"
   ]
  },
  {
   "cell_type": "markdown",
   "id": "4a95c700-4b27-4b7b-a7c5-35e6d1e1ef66",
   "metadata": {},
   "source": [
    "## 6."
   ]
  },
  {
   "cell_type": "code",
   "execution_count": 15,
   "id": "1174c829-e688-48a7-9515-5d9143098291",
   "metadata": {},
   "outputs": [],
   "source": [
    "list5= ['python', 'php', 'aba', 'radar', 'level']"
   ]
  },
  {
   "cell_type": "code",
   "execution_count": 18,
   "id": "50d4870b-a32b-4c0d-b485-5b3ef4386377",
   "metadata": {},
   "outputs": [
    {
     "name": "stdout",
     "output_type": "stream",
     "text": [
      "Given list: ['python', 'php', 'aba', 'radar', 'level']\n",
      "Palindromes in the given list:\n"
     ]
    },
    {
     "data": {
      "text/plain": [
       "['php', 'aba', 'radar', 'level']"
      ]
     },
     "execution_count": 18,
     "metadata": {},
     "output_type": "execute_result"
    }
   ],
   "source": [
    "print('Given list: ' +str(list5))\n",
    "print('Palindromes in the given list:')\n",
    "list(filter(lambda x: (x== ''.join(reversed(x))), list5))"
   ]
  },
  {
   "cell_type": "code",
   "execution_count": null,
   "id": "cdc91f6d-c868-4d64-a0eb-97dfbc561fa5",
   "metadata": {},
   "outputs": [],
   "source": []
  }
 ],
 "metadata": {
  "kernelspec": {
   "display_name": "Python 3 (ipykernel)",
   "language": "python",
   "name": "python3"
  },
  "language_info": {
   "codemirror_mode": {
    "name": "ipython",
    "version": 3
   },
   "file_extension": ".py",
   "mimetype": "text/x-python",
   "name": "python",
   "nbconvert_exporter": "python",
   "pygments_lexer": "ipython3",
   "version": "3.10.8"
  }
 },
 "nbformat": 4,
 "nbformat_minor": 5
}
