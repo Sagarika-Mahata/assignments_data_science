{
 "cells": [
  {
   "cell_type": "markdown",
   "id": "150aea4f-055a-497c-a11e-11f34151f8ce",
   "metadata": {},
   "source": [
    "Q.1 Explain Class and Object with respect to Object-Oriented Programming. Give a suitable example."
   ]
  },
  {
   "cell_type": "markdown",
   "id": "79ea4814-9e61-4ba1-98c0-be1238a12f10",
   "metadata": {},
   "source": [
    "Python classes-\n",
    "Class is considered as a blueprint of objects. It contains all the details about the object.\n",
    "we use 'class' keyword to create a class in python. Example,''' "
   ]
  },
  {
   "cell_type": "code",
   "execution_count": 16,
   "id": "422133d2-6570-4ef1-9e8f-8fc0b72350ac",
   "metadata": {},
   "outputs": [],
   "source": [
    "class Test:\n",
    "    pass\n",
    "    "
   ]
  },
  {
   "cell_type": "code",
   "execution_count": 20,
   "id": "5dfecc02-520f-4e11-a7dc-d74f921f16d9",
   "metadata": {},
   "outputs": [],
   "source": [
    "a= Test()"
   ]
  },
  {
   "cell_type": "code",
   "execution_count": 21,
   "id": "174c0edd-dfe4-4af7-b38e-eddff7b2000c",
   "metadata": {},
   "outputs": [
    {
     "name": "stdout",
     "output_type": "stream",
     "text": [
      "<class '__main__.Test'>\n"
     ]
    }
   ],
   "source": [
    "print(type(a))"
   ]
  },
  {
   "cell_type": "markdown",
   "id": "47588141-0142-4936-a81e-cbc215b24194",
   "metadata": {},
   "source": [
    "Python Objects: The object is an entity that has a identity and some unique attributes. Like, in the above expamle, 'a' is an entity or object."
   ]
  },
  {
   "cell_type": "code",
   "execution_count": 1,
   "id": "fd9e61c5-2bcc-4c2c-920f-33f4176dbf55",
   "metadata": {},
   "outputs": [],
   "source": [
    "class XII:      ##creating a class called 'XII'\n",
    "    def __init__(self, Name, RollNo, MathMarks):  ## these are the attributes that an object of this class can have\n",
    "        self.Name= Name\n",
    "        self.RollNo = RollNo\n",
    "        self.MathMarks = MathMarks\n",
    "    \n",
    "    def return_details(self):  \n",
    "        return self.Name, self.RollNo, self.MathMarks"
   ]
  },
  {
   "cell_type": "code",
   "execution_count": 2,
   "id": "cf2d14b6-a9c3-4195-97ca-854ab3492c3a",
   "metadata": {},
   "outputs": [],
   "source": [
    "aa= XII('Ravi Sankar', 1, 99)  ## an object of class 'XII'"
   ]
  },
  {
   "cell_type": "code",
   "execution_count": 3,
   "id": "5ba5b5f7-92f7-43da-ad0b-bb6bb474dc1e",
   "metadata": {},
   "outputs": [
    {
     "data": {
      "text/plain": [
       "('Ravi Sankar', 1, 99)"
      ]
     },
     "execution_count": 3,
     "metadata": {},
     "output_type": "execute_result"
    }
   ],
   "source": [
    "aa.return_details()"
   ]
  },
  {
   "cell_type": "markdown",
   "id": "21b5dba0-7913-4e73-a562-a7d1cdbec722",
   "metadata": {},
   "source": [
    "Q2. Name the four pillars of OOPs."
   ]
  },
  {
   "cell_type": "markdown",
   "id": "5b16aedb-afe3-4f1b-93cf-dc912b889782",
   "metadata": {},
   "source": [
    "Abstraction, Encapsulation, Inheritance, Polymorphism - are the four pillars of OOPs."
   ]
  },
  {
   "cell_type": "markdown",
   "id": "2afa15e3-1f44-4290-9def-4dde23f8ad9c",
   "metadata": {},
   "source": [
    "Q3. Explain why the __init__() function is used. Give a suitable example."
   ]
  },
  {
   "cell_type": "markdown",
   "id": "a55edd0b-b5f8-4e91-94a3-59aa1039d7e3",
   "metadata": {},
   "source": [
    "The __init__ method is similar to constructors in C++ and Java. It is run as soon as an object of a class is instantiated. The method is useful to do any initialization you want to do with your object. \n",
    "Example-\n"
   ]
  },
  {
   "cell_type": "code",
   "execution_count": 8,
   "id": "40bb9462-a4ec-4725-a5fb-4f3102d792e1",
   "metadata": {},
   "outputs": [],
   "source": [
    "class XII:      ##creating a class called 'XII'\n",
    "    def __init__(self, Name, RollNo, MathMarks):  ## 'inti' is the constructor\n",
    "        self.Name= Name\n",
    "        self.RollNo = RollNo\n",
    "        self.MathMarks = MathMarks\n",
    "    \n",
    "    def return_details(self):  \n",
    "        return self.Name, self.RollNo, self.MathMarks"
   ]
  },
  {
   "cell_type": "code",
   "execution_count": 9,
   "id": "0fa9ac6f-8005-46b2-97e7-47998f04c3b8",
   "metadata": {},
   "outputs": [
    {
     "name": "stdout",
     "output_type": "stream",
     "text": [
      "<class '__main__.XII'>\n"
     ]
    },
    {
     "data": {
      "text/plain": [
       "('Maya', 2, 100)"
      ]
     },
     "execution_count": 9,
     "metadata": {},
     "output_type": "execute_result"
    }
   ],
   "source": [
    "ab=XII('Maya', 2, 100)\n",
    "print(type(ab))\n",
    "ab.return_details()"
   ]
  },
  {
   "cell_type": "markdown",
   "id": "0292af07-be59-459d-946d-0534d0d2468e",
   "metadata": {},
   "source": [
    "Q4. Why self is used in OOPs?"
   ]
  },
  {
   "cell_type": "markdown",
   "id": "d3c5e7e1-6187-4800-808d-420b0359ce82",
   "metadata": {},
   "source": [
    "Class methods must have an extra first parameter in the method definition. We do not give a value for this parameter when we call the method, Python provides it.\n",
    "If we have a method that takes no arguments, then we still have to have one argument.\n",
    "This is similar to this pointer in C++ and this reference in Java."
   ]
  },
  {
   "cell_type": "markdown",
   "id": "d46ab264-2445-40b0-956e-f8b4bd158334",
   "metadata": {},
   "source": [
    "Q5. What is inheritance? Give an example for each type of inheritance."
   ]
  },
  {
   "cell_type": "markdown",
   "id": "a7e7bc5f-aa63-43d5-a602-0d02bbec4c93",
   "metadata": {},
   "source": [
    "Inheritance is the capability of one class to derive or inherit the properties from another class. The class that derives properties is called the derived class or child class and the class from which the properties are being derived is called the base class or parent class.\n",
    "There are few types of inheritances:"
   ]
  },
  {
   "cell_type": "markdown",
   "id": "2bc9c3cc-3f62-4715-b16e-3a3e145371ff",
   "metadata": {},
   "source": [
    "1. Single Inheritance: Single-level inheritance enables a derived class to inherit characteristics from a single-parent class."
   ]
  },
  {
   "cell_type": "code",
   "execution_count": 14,
   "id": "39b4594d-1d28-433d-8dde-0941aa3e40a4",
   "metadata": {},
   "outputs": [],
   "source": [
    "#Example of Single inheritance\n",
    "# Parent class\n",
    "class XII:     \n",
    "    def __init__(self, Name, RollNo, MathMarks): \n",
    "        self.Name= Name\n",
    "        self.RollNo = RollNo\n",
    "        self.MathMarks = MathMarks\n",
    "    \n",
    "    def return_details(self):  \n",
    "        return f\" Roll No {self.RollNo} : {self.Name} got {self.MathMarks} in Mathematics.\"\n",
    "    \n",
    "#child class\n",
    "\n",
    "class Student(XII):\n",
    "        \n",
    "    def show_details(self):  \n",
    "        print(f\"student {self.Name} is majoring in Science\")\n",
    "        "
   ]
  },
  {
   "cell_type": "code",
   "execution_count": 15,
   "id": "1abfacdb-0f26-4434-8f97-e4ab7a8bb95a",
   "metadata": {},
   "outputs": [
    {
     "name": "stdout",
     "output_type": "stream",
     "text": [
      "student Rohit is majoring in Science\n"
     ]
    },
    {
     "data": {
      "text/plain": [
       "' Roll No 10 : Rohit got 91 in Mathematics.'"
      ]
     },
     "execution_count": 15,
     "metadata": {},
     "output_type": "execute_result"
    }
   ],
   "source": [
    "a= Student('Rohit', 10, 91)\n",
    "a.show_details()\n",
    "a.return_details()"
   ]
  },
  {
   "cell_type": "markdown",
   "id": "65806bbe-2b4e-40c5-ba3b-283838a24f0c",
   "metadata": {},
   "source": [
    "2. Multiple Inheritance: It is when derived class inherit characteristics from more than one parent class. "
   ]
  },
  {
   "cell_type": "code",
   "execution_count": 5,
   "id": "52e0ec41-1b5b-48a5-9176-47800efd6ccd",
   "metadata": {},
   "outputs": [],
   "source": [
    "#Example of Multiple Inheritance\n",
    "\n",
    "class Parent1:\n",
    "    def func1(self):\n",
    "        print('This is from 1st parent class.')\n",
    "        \n",
    "class Parent2:\n",
    "    def func2(self):\n",
    "        print('This is from 2nd parent class.')\n",
    "        \n",
    "class Child(Parent1, Parent2):\n",
    "    def func3(self):\n",
    "        print('This is the child class.')\n",
    "        \n"
   ]
  },
  {
   "cell_type": "code",
   "execution_count": 6,
   "id": "679e9c58-235c-426c-b667-d80b1ce15658",
   "metadata": {},
   "outputs": [
    {
     "name": "stdout",
     "output_type": "stream",
     "text": [
      "This is from 1st parent class.\n",
      "This is from 2nd parent class.\n"
     ]
    }
   ],
   "source": [
    "ob1=Child()\n",
    "ob1.func1()\n",
    "ob1.func2() "
   ]
  },
  {
   "cell_type": "markdown",
   "id": "bb8d096e-d99e-4458-8400-e2f14addf4a3",
   "metadata": {},
   "source": [
    "3. Multi-level Inheritance: It is when a child class acts like a parent class for another child class."
   ]
  },
  {
   "cell_type": "code",
   "execution_count": 7,
   "id": "5e85aca3-a97d-4fac-abf7-64527a94746d",
   "metadata": {},
   "outputs": [],
   "source": [
    "#Example Of Multi-level Inheritance\n",
    "\n",
    "class Parent1:\n",
    "    def func1(self):\n",
    "        print('This is from 1st parent class.')\n",
    "        \n",
    "class Parent2(Parent1):\n",
    "    def func2(self):\n",
    "        print('This is from 2nd parent class.')\n",
    "        \n",
    "class Child(Parent2):\n",
    "    def func3(self):\n",
    "        print('This is the child class.')"
   ]
  },
  {
   "cell_type": "code",
   "execution_count": 9,
   "id": "cb9c5c29-257c-4c3c-a36b-0fe8277d6fae",
   "metadata": {},
   "outputs": [
    {
     "name": "stdout",
     "output_type": "stream",
     "text": [
      "This is from 1st parent class.\n",
      "This is from 2nd parent class.\n",
      "This is from 1st parent class.\n"
     ]
    }
   ],
   "source": [
    "ob1=Child()   #object of child class\n",
    "ob1.func1()\n",
    "ob1.func2() \n",
    "ob2= Parent2()   #object of parent2 class\n",
    "ob2.func1()"
   ]
  },
  {
   "cell_type": "markdown",
   "id": "71fe2eff-e19f-4431-94ea-028a2655842b",
   "metadata": {},
   "source": [
    "There are another type of inheritance exists, such as Hierarchical Inheritance and Hybrid Inheritance. \n",
    "\n",
    "When more than one child/ derived class created from a single parent class. That is called Hierarchical Inheritance.\n",
    "\n",
    "When we write a code using combination of different type of inheritances, such inheritance is called Hybrid Inheritance."
   ]
  },
  {
   "cell_type": "code",
   "execution_count": null,
   "id": "f02d901d-a735-439b-a039-2ae51f0d3b48",
   "metadata": {},
   "outputs": [],
   "source": []
  }
 ],
 "metadata": {
  "kernelspec": {
   "display_name": "Python 3 (ipykernel)",
   "language": "python",
   "name": "python3"
  },
  "language_info": {
   "codemirror_mode": {
    "name": "ipython",
    "version": 3
   },
   "file_extension": ".py",
   "mimetype": "text/x-python",
   "name": "python",
   "nbconvert_exporter": "python",
   "pygments_lexer": "ipython3",
   "version": "3.10.8"
  }
 },
 "nbformat": 4,
 "nbformat_minor": 5
}
